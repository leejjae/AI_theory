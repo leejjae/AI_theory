{
  "cells": [
    {
      "cell_type": "markdown",
      "metadata": {},
      "source": [
        "# GBM\n",
        "\n",
        "이정재  \n",
        "2024-03-16\n",
        "\n",
        "# GBM (Gradient Boosting Machine)\n",
        "\n",
        "`-` 다음은\n",
        "[wikipedia](https://en.wikipedia.org/wiki/Gradient_boosting)의 Gradient\n",
        "Boosting Algorithm입니다. 다음의 수식을 먼저 읽고 최대한 이해하려고\n",
        "노력해봅시다.\n",
        "\n",
        "## Algorithm\n",
        "\n",
        "<table style=\"width:28%;\">\n",
        "<colgroup>\n",
        "<col style=\"width: 27%\" />\n",
        "</colgroup>\n",
        "<tbody>\n",
        "<tr class=\"odd\">\n",
        "<td>1. <strong>initialize model with a constant value:</strong><br />\n",
        "<span class=\"math inline\">$F_0(x) =\n",
        "\\underset{\\gamma}{\\arg\\min}\\sum_{i=1}^n L(y_i, \\gamma)$</span></td>\n",
        "</tr>\n",
        "<tr class=\"even\">\n",
        "<td>2. For m = 1 to M : 1. Compute so-called pseudo-residuals<br />\n",
        "<span class=\"math inline\">$r_{im} = - \\Bigg[\\displaystyle\\frac{\\partial\n",
        "L(y_i, F(x_i))}{\\partial F(x_i)}\\Bigg]_{F(x) = F_{m-1}(x)}$</span> for\n",
        "<span class=\"math inline\"><em>i</em> = 1, ..., <em>n</em></span> 2. Fit\n",
        "a base learner (or weak learner, e.g. tree) closed under scaling <span\n",
        "class=\"math inline\"><em>h</em><sub><em>m</em></sub>(<em>x</em>)</span>\n",
        "to pseuo-residuals, i.e. train it using the training set <span\n",
        "class=\"math inline\">{(<em>x</em><sub><em>i</em></sub>,<em>r</em><sub><em>i</em><em>m</em></sub>)}<sub><em>i</em> = 1</sub><sup><em>n</em></sup></span>\n",
        "3. Compute multiplier <span\n",
        "class=\"math inline\"><em>γ</em><sub><em>m</em></sub></span> by solving\n",
        "the following one-dimensional optimization problem:<br />\n",
        "<span class=\"math inline\">$\\gamma_m =\n",
        "\\underset{\\gamma}{\\arg\\min}\\sum_{i=1}^n L(y_i, F_{m-1}(x_i) + \\gamma\n",
        "h_m(x_i))$</span> 4. Update the model:<br />\n",
        "<span\n",
        "class=\"math inline\"><em>F</em><sub><em>m</em></sub>(<em>x</em>) = <em>F</em><sub><em>m</em> − 1</sub>(<em>x</em>) + <em>γ</em><sub><em>m</em></sub><em>h</em><sub><em>m</em></sub>(<em>x</em>)</span></td>\n",
        "</tr>\n",
        "<tr class=\"odd\">\n",
        "<td>3. <strong>Output <span class=\"math inline\">$\\hat{f(x)} =\n",
        "F_M(x)$</span></strong></td>\n",
        "</tr>\n",
        "</tbody>\n",
        "</table>\n",
        "\n",
        "수식으로만 완전히 이해하기가 어렵기 때문에 간단한 예시와\n",
        "`pandas dataframe`을 이용하여 설명해보겠습니다.  \n",
        "다음과 같은 데이터가 있다고 가정해보겠습니다."
      ],
      "id": "fb461d17-83b5-45b8-bd98-59cc52959061"
    },
    {
      "cell_type": "code",
      "execution_count": 3,
      "metadata": {},
      "outputs": [],
      "source": [
        "import pandas as pd\n",
        "idx = ['학생1', '학생2', '학생3', '학생4']\n",
        "data = pd.DataFrame({'공부시간(m)':[150, 120, 60, 80], '성별':['여','남','남', '여'], '수학점수':[90, 65, 55, '???']},index=idx)\n",
        "data"
      ],
      "id": "504f9bae-f503-421c-b970-31e8f7723ab8"
    },
    {
      "cell_type": "markdown",
      "metadata": {},
      "source": [
        "다음과 같은 데이터가 있다고 할 때, 저희는 학생4의 `수학점수`를\n",
        "`공부시간(m)`을 통하여 예측하고 싶습니다.\n",
        "\n",
        "#### **1단계**\n",
        "\n",
        "|                                                                   |\n",
        "|-------------------------------------------------------------------|\n",
        "| 1\\. **initialize model with a constant value:**\\\\                 |\n",
        "| $F_0(x) = \\underset{\\gamma}{\\arg\\min}\\sum_{i=1}^n L(y_i, \\gamma)$ |\n",
        "\n",
        "1.  초기모델을 상수로 정의합니다. 여기서 상수는 $y_i$와 $\\gamma$입니다.\n",
        "2.  $y_i$는 수학점수를 의미하고 $\\gamma$는 초기 예측값입니다.\n",
        "    -   $y_1$ = 90, $y_2$ = 65, $y_3$ = 60\n",
        "3.  여기서의 Loss Function\n",
        "    $L(y_i, \\gamma) = \\displaystyle\\frac1n \\sum_{i=1}^{n} (y_i - \\gamma)^2$입니다.\n",
        "    (잘 모르시는 분들은 MSE 학습하시면 좋을 것 같습니다.)\n",
        "4.  예시의 수치를 대입하면  \n",
        "    $L(y_i, \\gamma) = \\displaystyle\\frac13 \\sum_{i=1}^{3} (y_i - \\gamma)^2 =  \\displaystyle\\frac13(90 - \\gamma)^2 + \\displaystyle\\frac13(65 - \\gamma)^2 + \\displaystyle\\frac13(55 - \\gamma)^2$입니다.\n",
        "5.  $L(y_i, \\gamma)$가 최소가 되는 $\\gamma$를 찾아야 하므로\n",
        "    $\\displaystyle\\frac{\\partial L}{\\partial \\gamma} = \\displaystyle\\frac23(\\gamma - 90) + \\displaystyle\\frac23(\\gamma - 65) + \\displaystyle\\frac23(\\gamma - 55) = \\displaystyle\\frac23(3\\gamma - 210)$입니다.\n",
        "6.  $\\displaystyle\\frac{\\partial L}{\\partial \\gamma} = 0$이 되어야\n",
        "    하므로 $\\gamma$ = 70입니다. 따라서 초기 예측값 $\\gamma$는 70이\n",
        "    됩니다.\n",
        "7.  초기 예측값을 이용한 첫번째 잔차는 각각 20, -5, -15가 됩니다."
      ],
      "id": "4b37d5fa-4977-44cb-aafe-2371800c40d2"
    },
    {
      "cell_type": "code",
      "execution_count": 34,
      "metadata": {},
      "outputs": [],
      "source": [
        "import pandas as pd\n",
        "idx = ['Student1', 'Student2', 'Student3']\n",
        "data = pd.DataFrame({'StudyTime(m)':[150, 120, 60], 'Sex':['female','male','male'], \n",
        "                     'MathScore':[90, 65, 55], 'F_0':[70 for i in range(3)],'r1': [20, -5, -15]},index=idx)\n",
        "data"
      ],
      "id": "48a410f7-0628-4ad2-8f6c-d7c12f26fc04"
    },
    {
      "cell_type": "markdown",
      "metadata": {},
      "source": [
        "`-` 위의 데이터를 의사결정나무로 시각화를 하면 다음과 같습니다."
      ],
      "id": "c4c89b06-b156-4938-82f5-1e091e7a38cd"
    },
    {
      "cell_type": "code",
      "execution_count": 40,
      "metadata": {},
      "outputs": [
        {
          "output_type": "display_data",
          "metadata": {},
          "data": {
            "image/png": "[encoded data removed]"
          }
        }
      ],
      "source": [
        "import sklearn.tree\n",
        "## step1\n",
        "x = data[['StudyTime(m)']]\n",
        "y = data['MathScore']\n",
        "\n",
        "## step2\n",
        "predictr = sklearn.tree.DecisionTreeRegressor(max_depth=1)\n",
        "\n",
        "## step3\n",
        "predictr.fit(x,y)\n",
        "\n",
        "## visualization\n",
        "sklearn.tree.plot_tree(predictr,feature_names=x.columns);"
      ],
      "id": "cb509d24-d29b-4a3a-9694-d5fa939a4bfa"
    },
    {
      "cell_type": "markdown",
      "metadata": {},
      "source": [
        "#### **2단계**\n",
        "\n",
        "1.  **For $m$ = 1 to $M$**:\n",
        "    1.  Compute so-called pseudo-residuals\n",
        "        $r_{im} = - \\Bigg[\\displaystyle\\frac{\\partial L(y_i, F(x_i))}{\\partial F(x_i)}\\Bigg]_{F(x) = F_{m-1}(x)}$\n",
        "        for $i = 1, ... ,n$\n",
        "    2.  Fit a base learner (or weak learner, e.g. tree) closed under\n",
        "        scaling $h_m(x)$ to pseuo-residuals, i.e. train it using the\n",
        "        training set $\\{(x_i, r_{im})\\}_{i=1}^{n}$\n",
        "    3.  Compute multiplier $\\gamma_{m}$ by solving the following\n",
        "        one-dimensional optimization problem:  \n",
        "        $\\gamma_m = \\underset{\\gamma}{\\arg\\min}\\sum_{i=1}^n L(y_i, F_{m-1}(x_i) + \\gamma h_m(x_i))$\n",
        "    4.  Update the model:  \n",
        "        $F_m(x) = F_{m-1}(x) + \\gamma_m h_m(x)$\n",
        "2.  `A단계`부터 `D단계`를 총 `M번` 반복하는 단계입니다.\n",
        "3.  여기서 $M$은 예측기의 개수, $n$은 데이터의 개수입니다.\n",
        "4.  예측기에 번호를 붙여 $m$=1인 경우는 1번 예측기 $m=M$인 경우는 M번\n",
        "    예측기라고 부르겠습니다.\n",
        "5.  1번 예측기($m=1$)가 생성 되는 과정을 살펴보겠습니다.\n",
        "    $L(y_i,F(x_i)) = \\displaystyle\\frac12(y_i - F(x_i))^2$이므로\n",
        "    -   $r_{i1} = - \\Bigg[\\displaystyle\\frac{\\partial L(y_i, F(x_i))}{\\partial F(x_i)}\\Bigg]_{F(x) = F_{0}(x)} = y_i - F_0(x_i)$입니다.\n",
        "        (잔차와 식이 동일합니다.)\n",
        "    -   0번 예측기 $F_0(x)$는 1단계의 초기모델에서 생성되었습니다.\n",
        "        따라서 $F_0(x)=70$입니다.(1단계 참고)\n",
        "    -   따라서 $r_{11}=20$, $r_{21}=-5$, $r_{31}=-15$입니다. 1단계 표에\n",
        "        있는 잔차1과 같습니다.\n",
        "    -   함수$h_1(x)$는 앞서 계산한 잔차를 트리 계열로 학습합니다.(의사\n",
        "        결정 나무에 대해서는 추후에 업로드 하겠습니다.)\n",
        "    -   모든 데이터($n=3$)에 대해서\n",
        "        $\\sum_{i=1}^{3} L(y_i, F_0(x_i) + \\gamma h_m(x_i)$ 식이 최소가\n",
        "        되는 $\\gamma$(learning rate)를 찾습니다.($\\gamma = \\gamma_{1}$)\n",
        "    -   모델을 업데이트 합니다 : $F_1(x) = F_0(x) + \\gamma_1 h_1(x)$\n",
        "6.  4번의 과정을 M번 반복합니다.\n",
        "\n",
        "`-` 추가설명\n",
        "\n",
        "#### **3단계**\n",
        "\n",
        "|                                      |\n",
        "|--------------------------------------|\n",
        "| 3\\. **Output $\\hat{f(x)} = F_M(x)$** |\n",
        "\n",
        "1.  최종 모델을 산출합니다.\n",
        "\n",
        "## Implementation"
      ],
      "id": "907affec-4585-4eaf-aa16-e8c7830f7186"
    }
  ],
  "nbformat": 4,
  "nbformat_minor": 5,
  "metadata": {
    "kernelspec": {
      "name": "python3",
      "display_name": "Python 3",
      "language": "python"
    },
    "language_info": {
      "name": "python",
      "codemirror_mode": {
        "name": "ipython",
        "version": "3"
      },
      "file_extension": ".py",
      "mimetype": "text/x-python",
      "nbconvert_exporter": "python",
      "pygments_lexer": "ipython3",
      "version": "3.8.18"
    }
  }
}