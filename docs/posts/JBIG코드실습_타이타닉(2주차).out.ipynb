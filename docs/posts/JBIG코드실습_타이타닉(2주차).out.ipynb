{
  "cells": [
    {
      "cell_type": "markdown",
      "metadata": {},
      "source": [
        "# JBIG코드실습_타이타닉(2주차)\n",
        "\n",
        "이정재  \n",
        "2024-03-24"
      ],
      "id": "7944f1b1-a21c-4794-8eff-a935015dd1fa"
    },
    {
      "cell_type": "code",
      "execution_count": 1,
      "metadata": {},
      "outputs": [],
      "source": [
        "import pandas as pd\n",
        "import numpy as np\n"
      ],
      "id": "cell-1"
    },
    {
      "cell_type": "code",
      "execution_count": 2,
      "metadata": {},
      "outputs": [],
      "source": [
        "train = pd.read_csv('./train_2.csv')\n",
        "train.head()"
      ],
      "id": "cell-2"
    },
    {
      "cell_type": "code",
      "execution_count": 3,
      "metadata": {},
      "outputs": [
        {
          "output_type": "display_data",
          "metadata": {},
          "data": {
            "image/png": "[encoded data removed]"
          }
        }
      ],
      "source": [
        "# Matplolib 으로 Survived의 분포 확인\n",
        "import matplotlib.pyplot as plt\n",
        "\n",
        "survived_counts = train['Survived'].value_counts()\n",
        "\n",
        "# 막대 그래프 그리기\n",
        "plt.bar(survived_counts.index, survived_counts.values)\n",
        "\n",
        "# 그래프에 제목과 레이블 추가\n",
        "plt.title('Survived Distribution')\n",
        "plt.xlabel('Survived')\n",
        "plt.ylabel('Count')\n",
        "\n",
        "# x축의 눈금 레이블 설정\n",
        "plt.xticks(survived_counts.index, ['Not Survived', 'Survived'])\n",
        "\n",
        "# 그래프 출력\n",
        "plt.show()\n",
        "\n"
      ],
      "id": "cell-3"
    },
    {
      "cell_type": "code",
      "execution_count": 14,
      "metadata": {},
      "outputs": [],
      "source": [
        "import pandas as pd\n",
        "from sklearn.model_selection import train_test_split\n",
        "\n",
        "# 데이터 불러오기\n",
        "train = pd.read_csv('./train_2.csv')\n",
        "\n",
        "# 전처리 (필요시 전처리 추가할 것)#########################################################################\n",
        "train['Age'] = train['Age'].fillna(29)\n",
        "train['Sex'] = train['Sex'].map({'male': 1, 'female': 0})\n",
        "# 위 5개 칼럼만 사용할 것\n",
        "train = train[[ 'Pclass', 'SibSp', 'Age', 'Sex', 'Survived']] \n",
        "\n",
        "# X값과 y값 구하기\n",
        "X = train.drop(columns=['Survived'])\n",
        "y = train['Survived']\n",
        "\n",
        "# 데이터 세트 분리\n",
        "X_train, X_test, y_train, y_test = train_test_split(X, y, test_size=0.2, random_state=42)\n"
      ],
      "id": "cell-4"
    },
    {
      "cell_type": "code",
      "execution_count": 5,
      "metadata": {},
      "outputs": [],
      "source": [
        "# 스케일링과 데이터 인코딩이 필요한 칼럼을 확인한 후 전처리를 진행하세요\n"
      ],
      "id": "cell-5"
    },
    {
      "cell_type": "code",
      "execution_count": 15,
      "metadata": {},
      "outputs": [
        {
          "output_type": "stream",
          "name": "stdout",
          "text": [
            "[LightGBM] [Warning] There are no meaningful features which satisfy the provided configuration. Decreasing Dataset parameters min_data_in_bin or min_data_in_leaf and re-constructing Dataset might resolve this warning.\n",
            "[LightGBM] [Info] Number of positive: 1, number of negative: 1\n",
            "[LightGBM] [Info] This is the GPU trainer!!\n",
            "[LightGBM] [Info] Total Bins 0\n",
            "[LightGBM] [Info] Number of data points in the train set: 2, number of used features: 0\n",
            "[LightGBM] [Warning] There are no meaningful features which satisfy the provided configuration. Decreasing Dataset parameters min_data_in_bin or min_data_in_leaf and re-constructing Dataset might resolve this warning.\n",
            "[LightGBM] [Warning] Using sparse features with CUDA is currently not supported.\n",
            "[LightGBM] [Info] Number of positive: 1, number of negative: 1\n",
            "[LightGBM] [Warning] There are no meaningful features which satisfy the provided configuration. Decreasing Dataset parameters min_data_in_bin or min_data_in_leaf and re-constructing Dataset might resolve this warning.\n",
            "[LightGBM] [Info] Number of positive: 1, number of negative: 1\n",
            "[LightGBM] [Info] This is the GPU trainer!!\n",
            "[LightGBM] [Info] Total Bins 0\n",
            "[LightGBM] [Info] Number of data points in the train set: 2, number of used features: 0\n",
            "[LightGBM] [Warning] There are no meaningful features which satisfy the provided configuration. Decreasing Dataset parameters min_data_in_bin or min_data_in_leaf and re-constructing Dataset might resolve this warning.\n",
            "[LightGBM] [Warning] Using sparse features with CUDA is currently not supported.\n",
            "[LightGBM] [Info] Number of positive: 1, number of negative: 1\n",
            "[LightGBM] [Warning] There are no meaningful features which satisfy the provided configuration. Decreasing Dataset parameters min_data_in_bin or min_data_in_leaf and re-constructing Dataset might resolve this warning.\n",
            "[LightGBM] [Info] Number of positive: 1, number of negative: 1\n",
            "[LightGBM] [Info] This is the GPU trainer!!\n",
            "[LightGBM] [Info] Total Bins 0\n",
            "[LightGBM] [Info] Number of data points in the train set: 2, number of used features: 0\n",
            "[LightGBM] [Warning] There are no meaningful features which satisfy the provided configuration. Decreasing Dataset parameters min_data_in_bin or min_data_in_leaf and re-constructing Dataset might resolve this warning.\n",
            "[LightGBM] [Warning] Using sparse features with CUDA is currently not supported.\n",
            "[LightGBM] [Info] Number of positive: 1, number of negative: 1\n",
            "[LightGBM] [Warning] There are no meaningful features which satisfy the provided configuration. Decreasing Dataset parameters min_data_in_bin or min_data_in_leaf and re-constructing Dataset might resolve this warning.\n",
            "[LightGBM] [Info] Number of positive: 1, number of negative: 1\n",
            "[LightGBM] [Info] This is the GPU trainer!!\n",
            "[LightGBM] [Info] Total Bins 0\n",
            "[LightGBM] [Info] Number of data points in the train set: 2, number of used features: 0\n",
            "[LightGBM] [Warning] There are no meaningful features which satisfy the provided configuration. Decreasing Dataset parameters min_data_in_bin or min_data_in_leaf and re-constructing Dataset might resolve this warning.\n",
            "[LightGBM] [Warning] Using sparse features with CUDA is currently not supported.\n",
            "[LightGBM] [Info] Number of positive: 1, number of negative: 1\n",
            "[LightGBM] [Warning] There are no meaningful features which satisfy the provided configuration. Decreasing Dataset parameters min_data_in_bin or min_data_in_leaf and re-constructing Dataset might resolve this warning.\n",
            "[LightGBM] [Info] Number of positive: 1, number of negative: 1\n",
            "[LightGBM] [Info] This is the GPU trainer!!\n",
            "[LightGBM] [Info] Total Bins 0\n",
            "[LightGBM] [Info] Number of data points in the train set: 2, number of used features: 0\n",
            "[LightGBM] [Warning] There are no meaningful features which satisfy the provided configuration. Decreasing Dataset parameters min_data_in_bin or min_data_in_leaf and re-constructing Dataset might resolve this warning.\n",
            "[LightGBM] [Warning] Using sparse features with CUDA is currently not supported.\n",
            "[LightGBM] [Info] Number of positive: 1, number of negative: 1\n",
            "[LightGBM] [Warning] There are no meaningful features which satisfy the provided configuration. Decreasing Dataset parameters min_data_in_bin or min_data_in_leaf and re-constructing Dataset might resolve this warning.\n",
            "[LightGBM] [Info] Number of positive: 1, number of negative: 1\n",
            "[LightGBM] [Info] This is the GPU trainer!!\n",
            "[LightGBM] [Info] Total Bins 0\n",
            "[LightGBM] [Info] Number of data points in the train set: 2, number of used features: 0\n",
            "[LightGBM] [Warning] There are no meaningful features which satisfy the provided configuration. Decreasing Dataset parameters min_data_in_bin or min_data_in_leaf and re-constructing Dataset might resolve this warning.\n",
            "[LightGBM] [Warning] Using sparse features with CUDA is currently not supported.\n",
            "[LightGBM] [Info] Number of positive: 1, number of negative: 1\n",
            "[LightGBM] [Warning] There are no meaningful features which satisfy the provided configuration. Decreasing Dataset parameters min_data_in_bin or min_data_in_leaf and re-constructing Dataset might resolve this warning.\n",
            "[LightGBM] [Info] Number of positive: 1, number of negative: 1\n",
            "[LightGBM] [Info] This is the GPU trainer!!\n",
            "[LightGBM] [Info] Total Bins 0\n",
            "[LightGBM] [Info] Number of data points in the train set: 2, number of used features: 0\n",
            "[LightGBM] [Warning] There are no meaningful features which satisfy the provided configuration. Decreasing Dataset parameters min_data_in_bin or min_data_in_leaf and re-constructing Dataset might resolve this warning.\n",
            "[LightGBM] [Warning] Using sparse features with CUDA is currently not supported.\n",
            "[LightGBM] [Info] Number of positive: 1, number of negative: 1\n",
            "[LightGBM] [Warning] There are no meaningful features which satisfy the provided configuration. Decreasing Dataset parameters min_data_in_bin or min_data_in_leaf and re-constructing Dataset might resolve this warning.\n",
            "[LightGBM] [Info] Number of positive: 1, number of negative: 1\n",
            "[LightGBM] [Info] This is the GPU trainer!!\n",
            "[LightGBM] [Info] Total Bins 0\n",
            "[LightGBM] [Info] Number of data points in the train set: 2, number of used features: 0\n",
            "[LightGBM] [Warning] There are no meaningful features which satisfy the provided configuration. Decreasing Dataset parameters min_data_in_bin or min_data_in_leaf and re-constructing Dataset might resolve this warning.\n",
            "[LightGBM] [Warning] Using sparse features with CUDA is currently not supported.\n",
            "[LightGBM] [Info] Number of positive: 1, number of negative: 1"
          ]
        }
      ],
      "source": [
        "# PyCaret으로 가장 좋은 성능을 보이는 모델을 찾으세요.\n",
        "from pycaret.classification import *\n",
        "# PyCaret 설정\n",
        "exp1 = setup(train, target='Survived', session_id=123,use_gpu=True) \n",
        "\n",
        "# 모델 비교 및 평가\n",
        "best_model = compare_models()\n"
      ],
      "id": "cell-6"
    },
    {
      "cell_type": "code",
      "execution_count": 16,
      "metadata": {},
      "outputs": [
        {
          "output_type": "stream",
          "name": "stdout",
          "text": [
            "Best Parameters: {'learning_rate': 0.1, 'max_depth': 3, 'n_estimators': 150}\n",
            "Best Score: 0.8327788588286987"
          ]
        }
      ],
      "source": [
        "# PyCaret에서 찾은 모델을 \n",
        "# 직접 sklearn의 GridSearch를 통해 하이퍼 파라미터를 튜닝해보세요.\n",
        "\n",
        "from sklearn.ensemble import GradientBoostingClassifier\n",
        "from sklearn.model_selection import GridSearchCV\n",
        "\n",
        "# Gradient Boosting Classifier 모델 정의\n",
        "gb_classifier = GradientBoostingClassifier()\n",
        "\n",
        "# 탐색할 하이퍼파라미터 그리드 정의\n",
        "param_grid = {\n",
        "    'n_estimators': [50, 100, 150],\n",
        "    'learning_rate': [0.05, 0.1, 0.2],\n",
        "    'max_depth': [3, 4, 5]\n",
        "}\n",
        "\n",
        "# GridSearchCV를 사용하여 하이퍼파라미터 튜닝\n",
        "grid_search = GridSearchCV(estimator=gb_classifier, param_grid=param_grid, cv=5)\n",
        "grid_search.fit(X, y)\n",
        "\n",
        "# 최적의 하이퍼파라미터와 점수 출력\n",
        "print(\"Best Parameters:\", grid_search.best_params_)\n",
        "print(\"Best Score:\", grid_search.best_score_)\n"
      ],
      "id": "cell-7"
    },
    {
      "cell_type": "code",
      "execution_count": 17,
      "metadata": {},
      "outputs": [
        {
          "output_type": "stream",
          "name": "stdout",
          "text": [
            "Cross Validation Scores: [0.84916201 0.8258427  0.79775281 0.80898876 0.83707865]\n",
            "Mean CV Score: 0.8237649865042999"
          ]
        }
      ],
      "source": [
        "# best params로 교차검증 및 StratifiedKFold를 진행하세요.\n",
        "# 최적의 하이퍼파라미터로 교차검증 및 StratifiedKFold 진행\n",
        "from sklearn.model_selection import cross_val_score, StratifiedKFold\n",
        "best_params = grid_search.best_params_\n",
        "gb_classifier = GradientBoostingClassifier(**best_params)\n",
        "stratified_kfold = StratifiedKFold(n_splits=5, shuffle=True, random_state=42)\n",
        "cv_scores = cross_val_score(gb_classifier, X, y, cv=stratified_kfold)\n",
        "\n",
        "# 교차검증 결과 출력\n",
        "print(\"Cross Validation Scores:\", cv_scores)\n",
        "print(\"Mean CV Score:\", cv_scores.mean())"
      ],
      "id": "cell-8"
    },
    {
      "cell_type": "code",
      "execution_count": 21,
      "metadata": {},
      "outputs": [
        {
          "output_type": "stream",
          "name": "stdout",
          "text": [
            "Accuracy: 0.8731762065095399"
          ]
        }
      ],
      "source": [
        "# 앙상블 기법 중 배깅을 사용해보세요.\n",
        "\n",
        "from sklearn.ensemble import BaggingClassifier\n",
        "from sklearn.tree import DecisionTreeClassifier\n",
        "from sklearn.model_selection import train_test_split\n",
        "from sklearn.metrics import accuracy_score\n",
        "\n",
        "\n",
        "# 데이터를 훈련 세트와 테스트 세트로 나눔\n",
        "X_train, X_test, y_train, y_test = train_test_split(X, y, test_size=0.2, random_state=42)\n",
        "\n",
        "# 배깅 분류기 정의\n",
        "bagging_classifier = BaggingClassifier(gb_classifier, n_estimators=10, random_state=42)\n",
        "\n",
        "# 배깅 분류기를 훈련 데이터에 적합\n",
        "gb_classifier.fit(X, y)\n",
        "\n",
        "# 테스트 데이터에 대한 예측\n",
        "y_pred = gb_classifier.predict(X)\n",
        "\n",
        "# 정확도 평가\n",
        "accuracy = accuracy_score(y, y_pred)\n",
        "print(\"Accuracy:\", accuracy)\n"
      ],
      "id": "cell-9"
    }
  ],
  "nbformat": 4,
  "nbformat_minor": 5,
  "metadata": {
    "kernelspec": {
      "name": "python3",
      "display_name": "Python 3",
      "language": "python"
    },
    "language_info": {
      "name": "python",
      "codemirror_mode": {
        "name": "ipython",
        "version": "3"
      },
      "file_extension": ".py",
      "mimetype": "text/x-python",
      "nbconvert_exporter": "python",
      "pygments_lexer": "ipython3",
      "version": "3.8.18"
    }
  }
}