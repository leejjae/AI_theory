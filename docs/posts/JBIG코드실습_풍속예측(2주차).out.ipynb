{
  "cells": [
    {
      "cell_type": "markdown",
      "metadata": {},
      "source": [
        "# JBIG코드실습_타이타닉(4주차)\n",
        "\n",
        "이정재  \n",
        "2024-04-05"
      ],
      "id": "b5528508-0e23-45f5-b729-86cffd230db9"
    },
    {
      "cell_type": "code",
      "execution_count": 1,
      "metadata": {},
      "outputs": [],
      "source": [
        "import pandas as pd\n",
        "import numpy as np\n",
        "import random\n",
        "import os"
      ],
      "id": "cell-1"
    },
    {
      "cell_type": "code",
      "execution_count": 2,
      "metadata": {},
      "outputs": [],
      "source": [
        "train = pd.read_csv('train_3.csv')\n",
        "test = pd.read_csv('test_3.csv')"
      ],
      "id": "cell-2"
    },
    {
      "cell_type": "code",
      "execution_count": 3,
      "metadata": {},
      "outputs": [],
      "source": [
        "def seed_everything(seed):\n",
        "    random.seed(seed)\n",
        "    os.environ['PYTHONHASHSEED'] = str(seed)\n",
        "    np.random.seed(seed)\n",
        "\n",
        "seed_everything(42) # Seed 고정"
      ],
      "id": "cell-3"
    },
    {
      "cell_type": "code",
      "execution_count": 4,
      "metadata": {},
      "outputs": [],
      "source": [
        "from sklearn.preprocessing import LabelEncoder\n",
        "from sklearn.tree import DecisionTreeRegressor\n",
        "\n",
        "# 독립변수(X), 종속변수(y)로 나누기\n",
        "train_x = train.drop(columns=['ID', '풍속 (m/s)'], axis = 1)\n",
        "train_y = train['풍속 (m/s)']\n",
        "\n",
        "test_x = test.drop(columns=['ID'])\n",
        "\n",
        "# 데이터 인코딩\n",
        "le = LabelEncoder()\n",
        "le = le.fit(train_x['측정 시간대'])\n",
        "train_x['측정 시간대'] = le.transform(train_x['측정 시간대'])\n",
        "test_x['측정 시간대'] = le.transform(test_x['측정 시간대'])\n",
        "\n",
        "# 회귀 모델 정의\n",
        "dt_clf = DecisionTreeRegressor(random_state=11) \n",
        "\n",
        "# 모델 학습\n",
        "dt_clf.fit(train_x , train_y) \n",
        "\n",
        "# 예측\n",
        "dt_pred = dt_clf.predict(test_x) "
      ],
      "id": "cell-4"
    },
    {
      "cell_type": "code",
      "execution_count": 5,
      "metadata": {},
      "outputs": [
        {
          "output_type": "stream",
          "name": "stdout",
          "text": [
            "<class 'pandas.core.frame.DataFrame'>\n",
            "RangeIndex: 36581 entries, 0 to 36580\n",
            "Data columns (total 16 columns):\n",
            " #   Column          Non-Null Count  Dtype  \n",
            "---  ------          --------------  -----  \n",
            " 0   ID              36581 non-null  object \n",
            " 1   월               36581 non-null  int64  \n",
            " 2   일               36581 non-null  int64  \n",
            " 3   측정 시간대          36581 non-null  object \n",
            " 4   섭씨 온도(°⁣C)      36581 non-null  float64\n",
            " 5   절대 온도(K)        36581 non-null  float64\n",
            " 6   이슬점 온도(°C)      36581 non-null  float64\n",
            " 7   상대 습도 (%)       36581 non-null  float64\n",
            " 8   대기압(mbar)       36581 non-null  float64\n",
            " 9   포화 증기압(mbar)    36581 non-null  float64\n",
            " 10  실제 증기압(mbar)    36581 non-null  float64\n",
            " 11  증기압 부족량(mbar)   36581 non-null  float64\n",
            " 12  수증기 함량 (g/kg)   36581 non-null  float64\n",
            " 13  공기 밀도 (g/m**3)  36581 non-null  float64\n",
            " 14  풍향 (deg)        36581 non-null  float64\n",
            " 15  풍속 (m/s)        36581 non-null  float64\n",
            "dtypes: float64(12), int64(2), object(2)\n",
            "memory usage: 4.5+ MB"
          ]
        }
      ],
      "source": [
        "train.info()"
      ],
      "id": "cell-5"
    },
    {
      "cell_type": "markdown",
      "metadata": {},
      "source": [
        "공기 밀도 (g/m\\*\\*3)  \n",
        "풍향 (deg)"
      ],
      "id": "9cd8fc76-1de2-4122-80ae-8b2f3c854e96"
    },
    {
      "cell_type": "code",
      "execution_count": 6,
      "metadata": {},
      "outputs": [],
      "source": [
        "train.columns"
      ],
      "id": "cell-7"
    },
    {
      "cell_type": "code",
      "execution_count": 7,
      "metadata": {},
      "outputs": [],
      "source": [
        "import matplotlib.pyplot as plt"
      ],
      "id": "cell-8"
    },
    {
      "cell_type": "code",
      "execution_count": 8,
      "metadata": {},
      "outputs": [
        {
          "output_type": "display_data",
          "metadata": {},
          "data": {
            "image/png": "[encoded data removed]"
          }
        }
      ],
      "source": [
        "import pandas as pd\n",
        "import matplotlib.pyplot as plt\n",
        "import warnings\n",
        "warnings.filterwarnings('ignore')\n",
        "\n",
        "# train 데이터프레임이 적절히 정의되어 있다고 가정\n",
        "# train = pd.read_csv(\"train.csv\")\n",
        "\n",
        "# 첫 번째, 두 번째, 세 번째 열을 제외한 열들을 선택\n",
        "selected_columns = train.columns[3:]\n",
        "\n",
        "# 선택된 열들을 가진 새로운 데이터프레임 생성\n",
        "selected_data = train[selected_columns]\n",
        "\n",
        "# 박스 플롯 그리기\n",
        "plt.figure(figsize=(10, 6))  # 그래프의 크기 설정\n",
        "selected_data.boxplot()  # 박스 플롯 그리기\n",
        "plt.title('Boxplot of Selected Columns')  # 그래프 제목 설정\n",
        "plt.xlabel('Columns')  # x축 레이블 설정\n",
        "plt.ylabel('Values')  # y축 레이블 설정\n",
        "plt.xticks(rotation=45)  # x축 레이블 회전\n",
        "plt.grid(True)  # 그리드 추가\n",
        "plt.tight_layout()  # 그래프 레이아웃 조정\n",
        "plt.show()  # 그래프 출력\n"
      ],
      "id": "cell-9"
    },
    {
      "cell_type": "code",
      "execution_count": 9,
      "metadata": {},
      "outputs": [],
      "source": [
        "# Normalization 혹은 Standardrization이 필요한 칼럼을 확인한 후 전처리를 진행해보세요.\n",
        "\n",
        "from sklearn.preprocessing import StandardScaler\n",
        "\n",
        "# '공기 밀도 (g/m**3)'열과 '풍향 (deg)'열만 선택\n",
        "selected_columns = ['공기 밀도 (g/m**3)', '풍향 (deg)']\n",
        "\n",
        "# 선택된 열들에 대한 데이터 추출\n",
        "selected_data = train[selected_columns]\n",
        "\n",
        "# StandardScaler를 사용하여 선택된 열들을 표준화\n",
        "scaler = StandardScaler()\n",
        "scaled_data = scaler.fit_transform(selected_data)\n",
        "\n",
        "# 표준화된 데이터를 데이터프레임으로 변환\n",
        "scaled_df = pd.DataFrame(scaled_data, columns=selected_columns)\n",
        "\n",
        "# 기존 데이터프레임에 표준화된 데이터 열을 추가\n",
        "train[selected_columns] = scaled_df"
      ],
      "id": "cell-10"
    },
    {
      "cell_type": "code",
      "execution_count": 10,
      "metadata": {},
      "outputs": [
        {
          "output_type": "stream",
          "name": "stdout",
          "text": [
            "<class 'pandas.core.frame.DataFrame'>\n",
            "RangeIndex: 36581 entries, 0 to 36580\n",
            "Data columns (total 16 columns):\n",
            " #   Column          Non-Null Count  Dtype  \n",
            "---  ------          --------------  -----  \n",
            " 0   ID              36581 non-null  object \n",
            " 1   월               36581 non-null  int64  \n",
            " 2   일               36581 non-null  int64  \n",
            " 3   측정 시간대          36581 non-null  object \n",
            " 4   섭씨 온도(°⁣C)      36581 non-null  float64\n",
            " 5   절대 온도(K)        36581 non-null  float64\n",
            " 6   이슬점 온도(°C)      36581 non-null  float64\n",
            " 7   상대 습도 (%)       36581 non-null  float64\n",
            " 8   대기압(mbar)       36581 non-null  float64\n",
            " 9   포화 증기압(mbar)    36581 non-null  float64\n",
            " 10  실제 증기압(mbar)    36581 non-null  float64\n",
            " 11  증기압 부족량(mbar)   36581 non-null  float64\n",
            " 12  수증기 함량 (g/kg)   36581 non-null  float64\n",
            " 13  공기 밀도 (g/m**3)  36581 non-null  float64\n",
            " 14  풍향 (deg)        36581 non-null  float64\n",
            " 15  풍속 (m/s)        36581 non-null  float64\n",
            "dtypes: float64(12), int64(2), object(2)\n",
            "memory usage: 4.5+ MB"
          ]
        }
      ],
      "source": [
        "train.info()"
      ],
      "id": "cell-11"
    },
    {
      "cell_type": "code",
      "execution_count": 11,
      "metadata": {},
      "outputs": [
        {
          "output_type": "stream",
          "name": "stdout",
          "text": [
            "RMSE: 1.1127962148868694e-15"
          ]
        }
      ],
      "source": [
        "# train과 test셋을 분리하여 rmse로 에러를 평가해보세요.\n",
        "\n",
        "\n",
        "from sklearn.model_selection import train_test_split\n",
        "from sklearn.linear_model import LinearRegression\n",
        "from sklearn.metrics import mean_squared_error\n",
        "import numpy as np\n",
        "\n",
        "# 예시로 사용할 데이터를 생성합니다.\n",
        "# 아래 코드는 실제 데이터를 사용하는 것이 아니라 예시를 위한 가상의 데이터입니다.\n",
        "# 실제 데이터를 사용할 경우 해당 데이터를 불러와야 합니다.\n",
        "# 여기서는 특징과 타겟을 각각 X와 y에 할당하는 예시를 제공합니다.\n",
        "X = train.drop(['ID','월','일','측정 시간대'], axis=1)  # 특징들\n",
        "y = train['풍속 (m/s)']  # 타겟\n",
        "\n",
        "# train과 test 데이터로 분리합니다.\n",
        "X_train, X_test, y_train, y_test = train_test_split(X, y, test_size=0.2, random_state=42)\n",
        "\n",
        "# 선형 회귀 모델을 정의하고 학습시킵니다.\n",
        "model = LinearRegression()\n",
        "model.fit(X_train, y_train)\n",
        "\n",
        "# 테스트 데이터에 대한 예측을 수행합니다.\n",
        "predictions = model.predict(X_test)\n",
        "\n",
        "# RMSE를 계산합니다.\n",
        "rmse = np.sqrt(mean_squared_error(y_test, predictions))\n",
        "print(\"RMSE:\", rmse)\n"
      ],
      "id": "cell-12"
    },
    {
      "cell_type": "code",
      "execution_count": null,
      "metadata": {},
      "outputs": [],
      "source": [
        "# PyCaret에서 성능이 좋은 모델을 비교해서 선택해보세요.\n",
        "\n",
        "\n",
        "from pycaret.regression import *\n",
        "import pandas as pd\n",
        "\n",
        "# 데이터 불러오기\n",
        "\n",
        "# PyCaret의 setup 함수를 사용하여 환경 설정\n",
        "# target 파라미터에는 타겟 변수의 이름을 입력합니다.\n",
        "reg_setup = setup(train, target='풍속 (m/s)')\n",
        "\n",
        "# PyCaret의 compare_models 함수를 사용하여 여러 모델을 비교\n",
        "best_model = compare_models(fold=5, sort='RMSE')\n",
        "\n",
        "# 선택된 최적의 모델을 확인\n",
        "print(best_model)\n",
        "\n",
        "# 최적의 모델을 튜닝 (옵션)\n",
        "\n",
        "# 튜닝된 모델을 사용하여 예측\n",
        "# 예측할 데이터가 있다면 predict_model 함수를 사용하여 예측할 수 있습니다.\n"
      ],
      "id": "cell-16"
    },
    {
      "cell_type": "code",
      "execution_count": 16,
      "metadata": {},
      "outputs": [
        {
          "output_type": "stream",
          "name": "stderr",
          "text": [
            "[I 2024-03-28 20:27:11,078] A new study created in memory with name: no-name-00344757-fe71-4098-8fd0-c1f8daf146db\n",
            "[I 2024-03-28 20:27:11,238] Trial 0 finished with value: 0.5534046253251211 and parameters: {'n_neighbors': 15, 'weights': 'uniform'}. Best is trial 0 with value: 0.5534046253251211.\n",
            "[I 2024-03-28 20:27:11,351] Trial 1 finished with value: 0.376508570820968 and parameters: {'n_neighbors': 4, 'weights': 'distance'}. Best is trial 1 with value: 0.376508570820968.\n",
            "[I 2024-03-28 20:27:11,458] Trial 2 finished with value: 0.37092827264345585 and parameters: {'n_neighbors': 3, 'weights': 'distance'}. Best is trial 2 with value: 0.37092827264345585.\n",
            "[I 2024-03-28 20:27:11,606] Trial 3 finished with value: 0.45225704654877136 and parameters: {'n_neighbors': 12, 'weights': 'distance'}. Best is trial 2 with value: 0.37092827264345585.\n",
            "[I 2024-03-28 20:27:11,858] Trial 4 finished with value: 0.645698179220662 and parameters: {'n_neighbors': 47, 'weights': 'distance'}. Best is trial 2 with value: 0.37092827264345585.\n",
            "[I 2024-03-28 20:27:12,088] Trial 5 finished with value: 0.6125879798356881 and parameters: {'n_neighbors': 39, 'weights': 'distance'}. Best is trial 2 with value: 0.37092827264345585.\n",
            "[I 2024-03-28 20:27:12,297] Trial 6 finished with value: 0.5750838859088238 and parameters: {'n_neighbors': 31, 'weights': 'distance'}. Best is trial 2 with value: 0.37092827264345585.\n",
            "[I 2024-03-28 20:27:12,482] Trial 7 finished with value: 0.5305082277530734 and parameters: {'n_neighbors': 23, 'weights': 'distance'}. Best is trial 2 with value: 0.37092827264345585.\n",
            "[I 2024-03-28 20:27:12,673] Trial 8 finished with value: 0.6480808811501448 and parameters: {'n_neighbors': 26, 'weights': 'uniform'}. Best is trial 2 with value: 0.37092827264345585.\n",
            "[I 2024-03-28 20:27:12,845] Trial 9 finished with value: 0.5043894132866685 and parameters: {'n_neighbors': 19, 'weights': 'distance'}. Best is trial 2 with value: 0.37092827264345585.\n",
            "[I 2024-03-28 20:27:12,939] Trial 10 finished with value: 0.41802991418887503 and parameters: {'n_neighbors': 1, 'weights': 'uniform'}. Best is trial 2 with value: 0.37092827264345585.\n",
            "[I 2024-03-28 20:27:13,033] Trial 11 finished with value: 0.41802991418887503 and parameters: {'n_neighbors': 1, 'weights': 'distance'}. Best is trial 2 with value: 0.37092827264345585.\n",
            "[I 2024-03-28 20:27:13,173] Trial 12 finished with value: 0.4276459225522527 and parameters: {'n_neighbors': 9, 'weights': 'distance'}. Best is trial 2 with value: 0.37092827264345585.\n",
            "[I 2024-03-28 20:27:13,310] Trial 13 finished with value: 0.4177623784452642 and parameters: {'n_neighbors': 8, 'weights': 'distance'}. Best is trial 2 with value: 0.37092827264345585.\n",
            "[I 2024-03-28 20:27:13,432] Trial 14 finished with value: 0.42787035137259644 and parameters: {'n_neighbors': 5, 'weights': 'uniform'}. Best is trial 2 with value: 0.37092827264345585.\n",
            "[I 2024-03-28 20:27:13,599] Trial 15 finished with value: 0.48230117545845846 and parameters: {'n_neighbors': 16, 'weights': 'distance'}. Best is trial 2 with value: 0.37092827264345585.\n",
            "[I 2024-03-28 20:27:13,810] Trial 16 finished with value: 0.5750838859088238 and parameters: {'n_neighbors': 31, 'weights': 'distance'}. Best is trial 2 with value: 0.37092827264345585.\n",
            "[I 2024-03-28 20:27:13,939] Trial 17 finished with value: 0.398295014900313 and parameters: {'n_neighbors': 6, 'weights': 'distance'}. Best is trial 2 with value: 0.37092827264345585.\n",
            "[I 2024-03-28 20:27:14,088] Trial 18 finished with value: 0.5108120375493856 and parameters: {'n_neighbors': 11, 'weights': 'uniform'}. Best is trial 2 with value: 0.37092827264345585.\n",
            "[I 2024-03-28 20:27:14,349] Trial 19 finished with value: 0.6576641553723276 and parameters: {'n_neighbors': 50, 'weights': 'distance'}. Best is trial 2 with value: 0.37092827264345585.\n",
            "[I 2024-03-28 20:27:14,534] Trial 20 finished with value: 0.5179897093617714 and parameters: {'n_neighbors': 21, 'weights': 'distance'}. Best is trial 2 with value: 0.37092827264345585.\n",
            "[I 2024-03-28 20:27:14,656] Trial 21 finished with value: 0.3876907530267905 and parameters: {'n_neighbors': 5, 'weights': 'distance'}. Best is trial 2 with value: 0.37092827264345585.\n",
            "[I 2024-03-28 20:27:14,774] Trial 22 finished with value: 0.376508570820968 and parameters: {'n_neighbors': 4, 'weights': 'distance'}. Best is trial 2 with value: 0.37092827264345585.\n",
            "[I 2024-03-28 20:27:14,869] Trial 23 finished with value: 0.41802991418887503 and parameters: {'n_neighbors': 1, 'weights': 'distance'}. Best is trial 2 with value: 0.37092827264345585.\n",
            "[I 2024-03-28 20:27:15,031] Trial 24 finished with value: 0.4676808745031302 and parameters: {'n_neighbors': 14, 'weights': 'distance'}. Best is trial 2 with value: 0.37092827264345585.\n",
            "[I 2024-03-28 20:27:15,149] Trial 25 finished with value: 0.376508570820968 and parameters: {'n_neighbors': 4, 'weights': 'distance'}. Best is trial 2 with value: 0.37092827264345585.\n",
            "[I 2024-03-28 20:27:15,286] Trial 26 finished with value: 0.4731711725743855 and parameters: {'n_neighbors': 8, 'weights': 'uniform'}. Best is trial 2 with value: 0.37092827264345585.\n",
            "[I 2024-03-28 20:27:15,440] Trial 27 finished with value: 0.45225704654877136 and parameters: {'n_neighbors': 12, 'weights': 'distance'}. Best is trial 2 with value: 0.37092827264345585.\n",
            "[I 2024-03-28 20:27:15,613] Trial 28 finished with value: 0.4968196911906673 and parameters: {'n_neighbors': 18, 'weights': 'distance'}. Best is trial 2 with value: 0.37092827264345585.\n",
            "[I 2024-03-28 20:27:15,781] Trial 29 finished with value: 0.5629637795075085 and parameters: {'n_neighbors': 16, 'weights': 'uniform'}. Best is trial 2 with value: 0.37092827264345585.\n",
            "[I 2024-03-28 20:27:15,899] Trial 30 finished with value: 0.376508570820968 and parameters: {'n_neighbors': 4, 'weights': 'distance'}. Best is trial 2 with value: 0.37092827264345585.\n",
            "[I 2024-03-28 20:27:16,011] Trial 31 finished with value: 0.37092827264345585 and parameters: {'n_neighbors': 3, 'weights': 'distance'}. Best is trial 2 with value: 0.37092827264345585.\n",
            "[I 2024-03-28 20:27:16,157] Trial 32 finished with value: 0.4367506602388166 and parameters: {'n_neighbors': 10, 'weights': 'distance'}. Best is trial 2 with value: 0.37092827264345585.\n",
            "[I 2024-03-28 20:27:16,270] Trial 33 finished with value: 0.37092827264345585 and parameters: {'n_neighbors': 3, 'weights': 'distance'}. Best is trial 2 with value: 0.37092827264345585.\n",
            "[I 2024-03-28 20:27:16,366] Trial 34 finished with value: 0.41802991418887503 and parameters: {'n_neighbors': 1, 'weights': 'distance'}. Best is trial 2 with value: 0.37092827264345585.\n",
            "[I 2024-03-28 20:27:16,499] Trial 35 finished with value: 0.40826738007337976 and parameters: {'n_neighbors': 7, 'weights': 'distance'}. Best is trial 2 with value: 0.37092827264345585.\n",
            "[I 2024-03-28 20:27:16,655] Trial 36 finished with value: 0.4602494040064771 and parameters: {'n_neighbors': 13, 'weights': 'distance'}. Best is trial 2 with value: 0.37092827264345585.\n",
            "[I 2024-03-28 20:27:16,882] Trial 37 finished with value: 0.599299576538495 and parameters: {'n_neighbors': 36, 'weights': 'distance'}. Best is trial 2 with value: 0.37092827264345585.\n",
            "[I 2024-03-28 20:27:16,992] Trial 38 finished with value: 0.37092827264345585 and parameters: {'n_neighbors': 3, 'weights': 'distance'}. Best is trial 2 with value: 0.37092827264345585.\n",
            "[I 2024-03-28 20:27:17,240] Trial 39 finished with value: 0.6339572875404834 and parameters: {'n_neighbors': 44, 'weights': 'distance'}. Best is trial 2 with value: 0.37092827264345585.\n",
            "[I 2024-03-28 20:27:17,386] Trial 40 finished with value: 0.5005218364744485 and parameters: {'n_neighbors': 10, 'weights': 'uniform'}. Best is trial 2 with value: 0.37092827264345585.\n",
            "[I 2024-03-28 20:27:17,498] Trial 41 finished with value: 0.37092827264345585 and parameters: {'n_neighbors': 3, 'weights': 'distance'}. Best is trial 2 with value: 0.37092827264345585.\n",
            "[I 2024-03-28 20:27:17,611] Trial 42 finished with value: 0.37092827264345585 and parameters: {'n_neighbors': 3, 'weights': 'distance'}. Best is trial 2 with value: 0.37092827264345585.\n",
            "[I 2024-03-28 20:27:17,722] Trial 43 finished with value: 0.37092827264345585 and parameters: {'n_neighbors': 3, 'weights': 'distance'}. Best is trial 2 with value: 0.37092827264345585.\n",
            "[I 2024-03-28 20:27:17,857] Trial 44 finished with value: 0.40826738007337976 and parameters: {'n_neighbors': 7, 'weights': 'distance'}. Best is trial 2 with value: 0.37092827264345585.\n",
            "[I 2024-03-28 20:27:17,952] Trial 45 finished with value: 0.41802991418887503 and parameters: {'n_neighbors': 1, 'weights': 'distance'}. Best is trial 2 with value: 0.37092827264345585.\n",
            "[I 2024-03-28 20:27:18,148] Trial 46 finished with value: 0.5425939076222115 and parameters: {'n_neighbors': 25, 'weights': 'distance'}. Best is trial 2 with value: 0.37092827264345585.\n",
            "[I 2024-03-28 20:27:18,281] Trial 47 finished with value: 0.40826738007337976 and parameters: {'n_neighbors': 7, 'weights': 'distance'}. Best is trial 2 with value: 0.37092827264345585.\n",
            "[I 2024-03-28 20:27:18,422] Trial 48 finished with value: 0.4276459225522527 and parameters: {'n_neighbors': 9, 'weights': 'distance'}. Best is trial 2 with value: 0.37092827264345585.\n",
            "[I 2024-03-28 20:27:18,533] Trial 49 finished with value: 0.39707143394764194 and parameters: {'n_neighbors': 3, 'weights': 'uniform'}. Best is trial 2 with value: 0.37092827264345585.\n",
            "[I 2024-03-28 20:27:18,661] Trial 50 finished with value: 0.398295014900313 and parameters: {'n_neighbors': 6, 'weights': 'distance'}. Best is trial 2 with value: 0.37092827264345585.\n",
            "[I 2024-03-28 20:27:18,765] Trial 51 finished with value: 0.37275693473197474 and parameters: {'n_neighbors': 2, 'weights': 'distance'}. Best is trial 2 with value: 0.37092827264345585.\n",
            "[I 2024-03-28 20:27:18,888] Trial 52 finished with value: 0.3876907530267905 and parameters: {'n_neighbors': 5, 'weights': 'distance'}. Best is trial 2 with value: 0.37092827264345585.\n",
            "[I 2024-03-28 20:27:19,000] Trial 53 finished with value: 0.37092827264345585 and parameters: {'n_neighbors': 3, 'weights': 'distance'}. Best is trial 2 with value: 0.37092827264345585.\n",
            "[I 2024-03-28 20:27:19,212] Trial 54 finished with value: 0.5750838859088238 and parameters: {'n_neighbors': 31, 'weights': 'distance'}. Best is trial 2 with value: 0.37092827264345585.\n",
            "[I 2024-03-28 20:27:19,362] Trial 55 finished with value: 0.4442124320806514 and parameters: {'n_neighbors': 11, 'weights': 'distance'}. Best is trial 2 with value: 0.37092827264345585.\n",
            "[I 2024-03-28 20:27:19,484] Trial 56 finished with value: 0.3876907530267905 and parameters: {'n_neighbors': 5, 'weights': 'distance'}. Best is trial 2 with value: 0.37092827264345585.\n",
            "[I 2024-03-28 20:27:19,621] Trial 57 finished with value: 0.4177623784452642 and parameters: {'n_neighbors': 8, 'weights': 'distance'}. Best is trial 2 with value: 0.37092827264345585.\n",
            "[I 2024-03-28 20:27:19,716] Trial 58 finished with value: 0.41802991418887503 and parameters: {'n_neighbors': 1, 'weights': 'distance'}. Best is trial 2 with value: 0.37092827264345585.\n",
            "[I 2024-03-28 20:27:19,843] Trial 59 finished with value: 0.44441531654243593 and parameters: {'n_neighbors': 6, 'weights': 'uniform'}. Best is trial 2 with value: 0.37092827264345585.\n",
            "[I 2024-03-28 20:27:19,955] Trial 60 finished with value: 0.37092827264345585 and parameters: {'n_neighbors': 3, 'weights': 'distance'}. Best is trial 2 with value: 0.37092827264345585.\n",
            "[I 2024-03-28 20:27:20,068] Trial 61 finished with value: 0.37092827264345585 and parameters: {'n_neighbors': 3, 'weights': 'distance'}. Best is trial 2 with value: 0.37092827264345585.\n",
            "[I 2024-03-28 20:27:20,179] Trial 62 finished with value: 0.37092827264345585 and parameters: {'n_neighbors': 3, 'weights': 'distance'}. Best is trial 2 with value: 0.37092827264345585.\n",
            "[I 2024-03-28 20:27:20,320] Trial 63 finished with value: 0.4276459225522527 and parameters: {'n_neighbors': 9, 'weights': 'distance'}. Best is trial 2 with value: 0.37092827264345585.\n",
            "[I 2024-03-28 20:27:20,444] Trial 64 finished with value: 0.3876907530267905 and parameters: {'n_neighbors': 5, 'weights': 'distance'}. Best is trial 2 with value: 0.37092827264345585.\n",
            "[I 2024-03-28 20:27:20,548] Trial 65 finished with value: 0.37275693473197474 and parameters: {'n_neighbors': 2, 'weights': 'distance'}. Best is trial 2 with value: 0.37092827264345585.\n",
            "[I 2024-03-28 20:27:20,681] Trial 66 finished with value: 0.40826738007337976 and parameters: {'n_neighbors': 7, 'weights': 'distance'}. Best is trial 2 with value: 0.37092827264345585.\n",
            "[I 2024-03-28 20:27:20,805] Trial 67 finished with value: 0.3876907530267905 and parameters: {'n_neighbors': 5, 'weights': 'distance'}. Best is trial 2 with value: 0.37092827264345585.\n",
            "[I 2024-03-28 20:27:20,959] Trial 68 finished with value: 0.45225704654877136 and parameters: {'n_neighbors': 12, 'weights': 'distance'}. Best is trial 2 with value: 0.37092827264345585.\n",
            "[I 2024-03-28 20:27:21,063] Trial 69 finished with value: 0.37275693473197474 and parameters: {'n_neighbors': 2, 'weights': 'distance'}. Best is trial 2 with value: 0.37092827264345585.\n",
            "[I 2024-03-28 20:27:21,224] Trial 70 finished with value: 0.542981615632149 and parameters: {'n_neighbors': 14, 'weights': 'uniform'}. Best is trial 2 with value: 0.37092827264345585.\n",
            "[I 2024-03-28 20:27:21,342] Trial 71 finished with value: 0.376508570820968 and parameters: {'n_neighbors': 4, 'weights': 'distance'}. Best is trial 2 with value: 0.37092827264345585.\n",
            "[I 2024-03-28 20:27:21,454] Trial 72 finished with value: 0.37092827264345585 and parameters: {'n_neighbors': 3, 'weights': 'distance'}. Best is trial 2 with value: 0.37092827264345585.\n",
            "[I 2024-03-28 20:27:21,549] Trial 73 finished with value: 0.41802991418887503 and parameters: {'n_neighbors': 1, 'weights': 'distance'}. Best is trial 2 with value: 0.37092827264345585.\n",
            "[I 2024-03-28 20:27:21,676] Trial 74 finished with value: 0.398295014900313 and parameters: {'n_neighbors': 6, 'weights': 'distance'}. Best is trial 2 with value: 0.37092827264345585.\n",
            "[I 2024-03-28 20:27:21,813] Trial 75 finished with value: 0.4177623784452642 and parameters: {'n_neighbors': 8, 'weights': 'distance'}. Best is trial 2 with value: 0.37092827264345585.\n",
            "[I 2024-03-28 20:27:21,931] Trial 76 finished with value: 0.376508570820968 and parameters: {'n_neighbors': 4, 'weights': 'distance'}. Best is trial 2 with value: 0.37092827264345585.\n",
            "[I 2024-03-28 20:27:22,077] Trial 77 finished with value: 0.4367506602388166 and parameters: {'n_neighbors': 10, 'weights': 'distance'}. Best is trial 2 with value: 0.37092827264345585.\n",
            "[I 2024-03-28 20:27:22,188] Trial 78 finished with value: 0.37092827264345585 and parameters: {'n_neighbors': 3, 'weights': 'distance'}. Best is trial 2 with value: 0.37092827264345585.\n",
            "[I 2024-03-28 20:27:22,283] Trial 79 finished with value: 0.41802991418887503 and parameters: {'n_neighbors': 1, 'weights': 'distance'}. Best is trial 2 with value: 0.37092827264345585.\n",
            "[I 2024-03-28 20:27:22,412] Trial 80 finished with value: 0.398295014900313 and parameters: {'n_neighbors': 6, 'weights': 'distance'}. Best is trial 2 with value: 0.37092827264345585.\n",
            "[I 2024-03-28 20:27:22,523] Trial 81 finished with value: 0.37092827264345585 and parameters: {'n_neighbors': 3, 'weights': 'distance'}. Best is trial 2 with value: 0.37092827264345585.\n",
            "[I 2024-03-28 20:27:22,748] Trial 82 finished with value: 0.599299576538495 and parameters: {'n_neighbors': 36, 'weights': 'distance'}. Best is trial 2 with value: 0.37092827264345585.\n",
            "[I 2024-03-28 20:27:22,853] Trial 83 finished with value: 0.37275693473197474 and parameters: {'n_neighbors': 2, 'weights': 'distance'}. Best is trial 2 with value: 0.37092827264345585.\n",
            "[I 2024-03-28 20:27:22,972] Trial 84 finished with value: 0.376508570820968 and parameters: {'n_neighbors': 4, 'weights': 'distance'}. Best is trial 2 with value: 0.37092827264345585.\n",
            "[I 2024-03-28 20:27:23,106] Trial 85 finished with value: 0.40826738007337976 and parameters: {'n_neighbors': 7, 'weights': 'distance'}. Best is trial 2 with value: 0.37092827264345585.\n",
            "[I 2024-03-28 20:27:23,224] Trial 86 finished with value: 0.376508570820968 and parameters: {'n_neighbors': 4, 'weights': 'distance'}. Best is trial 2 with value: 0.37092827264345585.\n",
            "[I 2024-03-28 20:27:23,330] Trial 87 finished with value: 0.388867774568847 and parameters: {'n_neighbors': 2, 'weights': 'uniform'}. Best is trial 2 with value: 0.37092827264345585.\n",
            "[I 2024-03-28 20:27:23,474] Trial 88 finished with value: 0.4276459225522527 and parameters: {'n_neighbors': 9, 'weights': 'distance'}. Best is trial 2 with value: 0.37092827264345585.\n",
            "[I 2024-03-28 20:27:23,667] Trial 89 finished with value: 0.5305082277530734 and parameters: {'n_neighbors': 23, 'weights': 'distance'}. Best is trial 2 with value: 0.37092827264345585.\n",
            "[I 2024-03-28 20:27:23,874] Trial 90 finished with value: 0.5598097954704512 and parameters: {'n_neighbors': 28, 'weights': 'distance'}. Best is trial 2 with value: 0.37092827264345585.\n",
            "[I 2024-03-28 20:27:23,989] Trial 91 finished with value: 0.37092827264345585 and parameters: {'n_neighbors': 3, 'weights': 'distance'}. Best is trial 2 with value: 0.37092827264345585.\n",
            "[I 2024-03-28 20:27:24,124] Trial 92 finished with value: 0.398295014900313 and parameters: {'n_neighbors': 6, 'weights': 'distance'}. Best is trial 2 with value: 0.37092827264345585.\n",
            "[I 2024-03-28 20:27:24,248] Trial 93 finished with value: 0.3876907530267905 and parameters: {'n_neighbors': 5, 'weights': 'distance'}. Best is trial 2 with value: 0.37092827264345585.\n",
            "[I 2024-03-28 20:27:24,344] Trial 94 finished with value: 0.41802991418887503 and parameters: {'n_neighbors': 1, 'weights': 'distance'}. Best is trial 2 with value: 0.37092827264345585.\n",
            "[I 2024-03-28 20:27:24,457] Trial 95 finished with value: 0.37092827264345585 and parameters: {'n_neighbors': 3, 'weights': 'distance'}. Best is trial 2 with value: 0.37092827264345585.\n",
            "[I 2024-03-28 20:27:24,562] Trial 96 finished with value: 0.37275693473197474 and parameters: {'n_neighbors': 2, 'weights': 'distance'}. Best is trial 2 with value: 0.37092827264345585.\n",
            "[I 2024-03-28 20:27:24,686] Trial 97 finished with value: 0.3876907530267905 and parameters: {'n_neighbors': 5, 'weights': 'distance'}. Best is trial 2 with value: 0.37092827264345585.\n",
            "[I 2024-03-28 20:27:24,932] Trial 98 finished with value: 0.6339572875404834 and parameters: {'n_neighbors': 44, 'weights': 'distance'}. Best is trial 2 with value: 0.37092827264345585.\n",
            "[I 2024-03-28 20:27:25,066] Trial 99 finished with value: 0.45935756087512386 and parameters: {'n_neighbors': 7, 'weights': 'uniform'}. Best is trial 2 with value: 0.37092827264345585."
          ]
        },
        {
          "output_type": "stream",
          "name": "stdout",
          "text": [
            "Best trial:\n",
            "  Value: RMSE = 0.3709\n",
            "  Params: \n",
            "    n_neighbors: 3\n",
            "    weights: distance"
          ]
        }
      ],
      "source": [
        "# PyCaret에서 나온 성능이 좋은 모델을 Optuna를 통해 하이퍼 파라미터 최적활를 진행하세요.\n",
        "\n",
        "\n",
        "import optuna\n",
        "from sklearn.neighbors import KNeighborsRegressor\n",
        "from sklearn.metrics import mean_squared_error\n",
        "from sklearn.model_selection import train_test_split\n",
        "import pandas as pd\n",
        "\n",
        "# # 데이터 불러오기\n",
        "# data = pd.read_csv('train.csv')  # 파일 경로를 적절하게 수정해야 합니다.\n",
        "\n",
        "# # 타겟 변수와 특성 데이터 분리\n",
        "# X = data.drop(columns=['target_variable_name'])\n",
        "# y = data['target_variable_name']\n",
        "\n",
        "# # 훈련 세트와 검증 세트로 데이터 분리\n",
        "X_train, X_valid, y_train, y_valid = train_test_split(X, y, test_size=0.2, random_state=42)\n",
        "\n",
        "def objective(trial):\n",
        "    # K 최근접 이웃 모델에 대한 하이퍼파라미터 검색 범위 설정\n",
        "    n_neighbors = trial.suggest_int('n_neighbors', 1, 50)\n",
        "    weights = trial.suggest_categorical('weights', ['uniform', 'distance'])\n",
        "    \n",
        "    # 모델 생성 및 학습\n",
        "    model = KNeighborsRegressor(n_neighbors=n_neighbors, weights=weights)\n",
        "    model.fit(X_train, y_train)\n",
        "    \n",
        "    # 검증 세트에 대한 예측\n",
        "    y_pred = model.predict(X_valid)\n",
        "    \n",
        "    # 검증 세트에 대한 RMSE 계산\n",
        "    rmse = mean_squared_error(y_valid, y_pred, squared=False)\n",
        "    \n",
        "    return rmse\n",
        "\n",
        "# Optuna를 사용하여 하이퍼파라미터 최적화\n",
        "study = optuna.create_study(direction='minimize')\n",
        "study.optimize(objective, n_trials=100)\n",
        "\n",
        "# 최적의 하이퍼파라미터 출력\n",
        "print(\"Best trial:\")\n",
        "best_trial = study.best_trial\n",
        "print(\"  Value: RMSE = {:.4f}\".format(best_trial.value))\n",
        "print(\"  Params: \")\n",
        "for key, value in best_trial.params.items():\n",
        "    print(\"    {}: {}\".format(key, value))\n"
      ],
      "id": "cell-17"
    },
    {
      "cell_type": "code",
      "execution_count": 17,
      "metadata": {},
      "outputs": [
        {
          "output_type": "stream",
          "name": "stdout",
          "text": [
            "Validation RMSE: 0.14080009612347158"
          ]
        }
      ],
      "source": [
        "### 앙상블 기법 중 부스팅을 활용해서 성능을 올려보세요.(AdaBoostRegressor)\n",
        "\n",
        "from sklearn.ensemble import AdaBoostRegressor\n",
        "from sklearn.metrics import mean_squared_error\n",
        "from sklearn.model_selection import train_test_split\n",
        "import pandas as pd\n",
        "\n",
        "# 데이터 불러오기\n",
        "\n",
        "# 모델 생성 및 학습\n",
        "model = AdaBoostRegressor()\n",
        "model.fit(X_train, y_train)\n",
        "\n",
        "# 검증 세트에 대한 예측\n",
        "y_pred = model.predict(X_valid)\n",
        "\n",
        "# 검증 세트에 대한 RMSE 계산\n",
        "rmse = mean_squared_error(y_valid, y_pred, squared=False)\n",
        "print(\"Validation RMSE:\", rmse)\n"
      ],
      "id": "cell-18"
    },
    {
      "cell_type": "code",
      "execution_count": null,
      "metadata": {},
      "outputs": [],
      "source": [
        " "
      ],
      "id": "cell-19"
    }
  ],
  "nbformat": 4,
  "nbformat_minor": 5,
  "metadata": {
    "kernelspec": {
      "name": "python3",
      "display_name": "Python 3 (ipykernel)",
      "language": "python"
    },
    "language_info": {
      "name": "python",
      "codemirror_mode": {
        "name": "ipython",
        "version": "3"
      },
      "file_extension": ".py",
      "mimetype": "text/x-python",
      "nbconvert_exporter": "python",
      "pygments_lexer": "ipython3",
      "version": "3.10.13"
    }
  }
}