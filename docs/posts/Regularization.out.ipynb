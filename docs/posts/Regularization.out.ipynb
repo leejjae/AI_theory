{
  "cells": [
    {
      "cell_type": "markdown",
      "metadata": {},
      "source": [
        "# Regularization\n",
        "\n",
        "이정재  \n",
        "2024-03-26\n",
        "\n",
        "# Regularization\n",
        "\n",
        "## 0. Preview\n",
        "\n",
        "$\\begin{align}\n",
        "    E(MSE) & =E\\left[(Y-\\hat{Y})^2|X\\right]\\\\\n",
        "        & =E\\left(Y^2-2Y\\hat{Y}+\\hat{Y}^2 |X\\right)\\\\\n",
        "        & = \\sigma^2  + \\left\\{E(\\hat{Y}) - \\hat{Y} \\right\\}^2\\\\\n",
        "        & = \\sigma^2 + \\text{Bias}\\left(\\hat{Y}\\right) + \\text{Var}(\\hat{Y})\n",
        "\\end{align}$\n",
        "\n",
        "$\\hat{\\beta}^{\\text{LS}} = \\underset{\\beta}\\arg\\min \\left\\{\\displaystyle\\sum_{i=1}^{n} (y-x_i\\beta)^2\\right\\}$  \n",
        "$\\Rightarrow \\hat{\\beta}^{\\text{LS}} : \\text{unbiased estimator}$  \n",
        "$\\Rightarrow$ 아이디어 : Bias가 올라가더라도 Variance를 더 낮출 수 있지\n",
        "않을까?\n",
        "\n",
        "$$\\text{Notation}$$\n",
        "$$\\hat{y} = \\beta_1x_1 + \\beta_2x_2 + ... + \\beta_{p}x_p$$ $$\\text{or}$$\n",
        "$$\\hat{y} = \\beta_1x + \\beta_2x^2 + ... + \\beta_{p}x^p$$\n",
        "\n",
        "## 1. Ridge\n",
        "\n",
        "$L(\\beta)=\\underset{\\beta}\\min \\displaystyle\\sum_{i=1}^{n} (y_i-\\hat{y}_i)^2 + \\lambda \\displaystyle\\sum_{j=1}^{p} \\beta_j^2 (\\lambda : \\text{hyper parameter})$\n",
        "\n",
        "`-` if) $\\lambda = \\infty$  \n",
        "$\\Rightarrow \\beta_k \\approx 0(1 \\leqq k \\leqq p)$  \n",
        "$\\Rightarrow \\text{Underfitting}$\n",
        "\n",
        "`-` if) $\\lambda=0$  \n",
        "$\\Rightarrow \\text{Overfitting(LSE)}$\n",
        "\n",
        "## 2. Lasso\n",
        "\n",
        "$L(\\beta) = \\underset{\\beta}\\arg\\min \\left\\{\\displaystyle\\sum_{i=1}^{n}(y_i-\\hat{y})^2+\\lambda\\displaystyle\\sum_{j=1}^{p}\\vert \\beta_j\\vert\\right\\}$\n",
        "\n",
        "`-` if) $\\lambda = \\infty$  \n",
        "$\\Rightarrow \\beta_k \\approx 0(1 \\leqq k \\leqq p)$  \n",
        "$\\Rightarrow \\text{Underfitting}$\n",
        "\n",
        "`-` if) $\\lambda=0$  \n",
        "$\\Rightarrow \\text{Overfitting(LSE)}$\n",
        "\n",
        "### 3. Question\n",
        "\n",
        "Hyper parameter $\\lambda$를 구하는 방법은?"
      ],
      "id": "24816ef1-551e-405f-9db4-05cd22f904b2"
    }
  ],
  "nbformat": 4,
  "nbformat_minor": 5,
  "metadata": {
    "kernelspec": {
      "name": "python3",
      "display_name": "Python 3",
      "language": "python"
    },
    "language_info": {
      "name": "python",
      "codemirror_mode": {
        "name": "ipython",
        "version": "3"
      },
      "file_extension": ".py",
      "mimetype": "text/x-python",
      "nbconvert_exporter": "python",
      "pygments_lexer": "ipython3",
      "version": "3.8.18"
    }
  }
}