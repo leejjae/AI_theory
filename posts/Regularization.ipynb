{
 "cells": [
  {
   "cell_type": "raw",
   "id": "13180d85-1096-47ad-a430-54d3c09b8671",
   "metadata": {},
   "source": [
    "---\n",
    "\"title\": \"Regularization\"\n",
    "\"author\": \"이정재\"\n",
    "\"date\": \"2024-03-26\"\n",
    "---"
   ]
  },
  {
   "cell_type": "markdown",
   "id": "33a48c05-676c-437a-bcea-d3b15364f668",
   "metadata": {},
   "source": [
    "# Regularization"
   ]
  },
  {
   "cell_type": "markdown",
   "id": "c869e60f-d56f-4292-8fa1-bdfde83e7f32",
   "metadata": {},
   "source": [
    "## 0. Preview"
   ]
  },
  {
   "cell_type": "markdown",
   "id": "c8dd5ecc-9726-46c6-a05c-05224cc8f5c0",
   "metadata": {},
   "source": [
    "$\\begin{align} \n",
    "\tE(MSE) & =E\\left[(Y-\\hat{Y})^2|X\\right]\\\\ \n",
    "    \t& =E\\left(Y^2-2Y\\hat{Y}+\\hat{Y}^2 |X\\right)\\\\ \n",
    "        & = \\sigma^2  + \\left\\{E(\\hat{Y}) - \\hat{Y} \\right\\}^2\\\\\n",
    "        & = \\sigma^2 + \\text{Bias}\\left(\\hat{Y}\\right) + \\text{Var}(\\hat{Y})\n",
    "\\end{align}$"
   ]
  },
  {
   "cell_type": "markdown",
   "id": "0bcc9893-a3e5-4085-9462-52ed7137a7b4",
   "metadata": {},
   "source": [
    "$\\hat{\\beta}^{\\text{LS}} = \\underset{\\beta}\\arg\\min \\left\\{\\displaystyle\\sum_{i=1}^{n} (y-x_i\\beta)^2\\right\\}$\\\n",
    "$\\Rightarrow \\hat{\\beta}^{\\text{LS}} : \\text{unbiased estimator}$\\\n",
    "$\\Rightarrow$ 아이디어 : Bias가 올라가더라도 Variance를 더 낮출 수 있지 않을까?"
   ]
  },
  {
   "cell_type": "markdown",
   "id": "9d868ebb-0075-4f11-af9d-227571fabd20",
   "metadata": {},
   "source": [
    "$$\\text{Notation}$$ $$\\hat{y} = \\beta_1x_1 + \\beta_2x_2 + ... + \\beta_{p}x_p$$ $$\\text{or}$$  $$\\hat{y} = \\beta_1x + \\beta_2x^2 + ... + \\beta_{p}x^p$$"
   ]
  },
  {
   "cell_type": "markdown",
   "id": "b7c78c79-4cad-4c1e-9325-7f0fe6f699ee",
   "metadata": {},
   "source": [
    "## 1. Ridge"
   ]
  },
  {
   "cell_type": "markdown",
   "id": "e813f54d-2b83-4b30-aa18-29ca9ae27b4c",
   "metadata": {},
   "source": [
    "$L(\\beta)=\\underset{\\beta}\\min \\displaystyle\\sum_{i=1}^{n} (y_i-\\hat{y}_i)^2 + \\lambda \\displaystyle\\sum_{j=1}^{p} \\beta_j^2 (\\lambda : \\text{hyper parameter})$"
   ]
  },
  {
   "cell_type": "markdown",
   "id": "eca10366-9770-4f61-88b9-f8d1ef9d10f2",
   "metadata": {},
   "source": [
    "`-` if) $\\lambda = \\infty$\\\n",
    "$\\Rightarrow \\beta_k \\approx 0(1 \\leqq k \\leqq p)$\\\n",
    "$\\Rightarrow \\text{Underfitting}$"
   ]
  },
  {
   "cell_type": "markdown",
   "id": "a01dcad2-fbe1-458e-85a6-94d01114145e",
   "metadata": {},
   "source": [
    "`-` if) $\\lambda=0$\\\n",
    "$\\Rightarrow \\text{Overfitting(LSE)}$"
   ]
  },
  {
   "cell_type": "markdown",
   "id": "d50909a6-d2f6-4952-9a5d-35eff03092d8",
   "metadata": {},
   "source": [
    "## 2. Lasso"
   ]
  },
  {
   "cell_type": "markdown",
   "id": "32f94abd-69f9-4f1f-bc2b-45c5062d81a3",
   "metadata": {},
   "source": [
    "$L(\\beta) = \\underset{\\beta}\\arg\\min \\left\\{\\displaystyle\\sum_{i=1}^{n}(y_i-\\hat{y})^2+\\lambda\\displaystyle\\sum_{j=1}^{p}\\vert \\beta_j\\vert\\right\\}$"
   ]
  },
  {
   "cell_type": "markdown",
   "id": "9c16e253-2129-462a-babc-867798fa1c8a",
   "metadata": {},
   "source": [
    "`-` if) $\\lambda = \\infty$\\\n",
    "$\\Rightarrow \\beta_k \\approx 0(1 \\leqq k \\leqq p)$\\\n",
    "$\\Rightarrow \\text{Underfitting}$\n",
    "\n"
   ]
  },
  {
   "cell_type": "markdown",
   "id": "09f73911-4802-4fde-86fe-b02b22278c4a",
   "metadata": {},
   "source": [
    "`-` if) $\\lambda=0$\\\n",
    "$\\Rightarrow \\text{Overfitting(LSE)}$"
   ]
  },
  {
   "cell_type": "markdown",
   "id": "4316ae1d-9476-44a8-adba-fee716d38ed4",
   "metadata": {},
   "source": [
    "### 3. Question"
   ]
  },
  {
   "cell_type": "markdown",
   "id": "4bdf2757-4b1f-4de3-a37c-cec9ba0e1cd8",
   "metadata": {},
   "source": [
    "Hyper parameter $\\lambda$를 구하는 방법은?"
   ]
  }
 ],
 "metadata": {
  "kernelspec": {
   "display_name": "Python 3",
   "language": "python",
   "name": "python3"
  },
  "language_info": {
   "codemirror_mode": {
    "name": "ipython",
    "version": 3
   },
   "file_extension": ".py",
   "mimetype": "text/x-python",
   "name": "python",
   "nbconvert_exporter": "python",
   "pygments_lexer": "ipython3",
   "version": "3.8.18"
  }
 },
 "nbformat": 4,
 "nbformat_minor": 5
}
