{
 "cells": [
  {
   "cell_type": "raw",
   "id": "3ece79c1-95f0-49b0-b5fb-fd1d57739fbf",
   "metadata": {},
   "source": [
    "---\n",
    "\"title\": \"로지스틱회귀\"\n",
    "\"author\": \"이정재\"\n",
    "\"date\": \"2024-03-24\"\n",
    "---"
   ]
  },
  {
   "cell_type": "markdown",
   "id": "c9e3e6a9-4748-4dbc-ad60-0a45d5be1f5c",
   "metadata": {},
   "source": [
    "## 로지스틱 회귀(Logistic Regression)"
   ]
  },
  {
   "cell_type": "markdown",
   "id": "73bcf1f5-c2b9-48a8-bbdf-fdbaa6a42b66",
   "metadata": {},
   "source": [
    "### 베르누이 분포"
   ]
  },
  {
   "cell_type": "markdown",
   "id": "49e8a743-1f38-438b-981c-6f930aaf759f",
   "metadata": {},
   "source": [
    "* $f(x|p) = p^x(1-p)^{1-x} (x=1,0)$\n",
    "* 즉 $x=1$일 확률이 $p$, $x=0$일 확률이 $1-p$입니다."
   ]
  },
  {
   "cell_type": "markdown",
   "id": "9e19d1b4-91d0-4677-af67-ff6da2709cce",
   "metadata": {},
   "source": [
    "### 승산비($odds\\,ratio$)"
   ]
  },
  {
   "cell_type": "markdown",
   "id": "2e974cc9-c093-4d64-bec7-b8b9a2e6f56a",
   "metadata": {},
   "source": [
    " * 베르누이 분포에서 1이 나올 확률 $p$와 0이 나올 확률 $1-p$의 비율입니다.\n",
    " * $odds\\, ratio = \\displaystyle\\frac{p}{1-p}    \\left(0\\leq odds\\,ratio\\leq \\infty \\right) = \\displaystyle\\frac{\\text{1일확률}}{\\text{0일확률}}$\n",
    " *  확률 $p$를 $odds\\,ratio$로 변환하면 0부터 무한대까지의 값을 가질 수 있다.\n",
    " *  승산비($odds\\,ratio$)를 로그변환하면 다음과 같다.\n",
    " *  $z = logit\\left(\\displaystyle\\frac{p}{1-p} \\right) = log\\left(\\displaystyle\\frac{p}{1-p}\\right)$"
   ]
  },
  {
   "cell_type": "markdown",
   "id": "8a322c00-64dc-487f-8f3e-0175584a5ccc",
   "metadata": {},
   "source": [
    "`-` 식을 다음과 같이 변환해보자\\\n",
    "$log\\left(\\displaystyle\\frac{p}{1-p}\\right) = z$ \\\n",
    "\\\n",
    "$\\Leftrightarrow \\displaystyle\\frac{p}{1-p} = e^z$ \\\n",
    "\\\n",
    "$\\Leftrightarrow p = e^z(1-p)$ \\\n",
    "\\\n",
    "$\\Leftrightarrow p = e^z - pe^k$ \\\n",
    "\\\n",
    "$\\Leftrightarrow p(1+e^z) = e^z$ \\\n",
    "\\\n",
    "$\\Leftrightarrow p = \\displaystyle\\frac{e^z}{1+e^z} = \\displaystyle\\frac{1}{1+e^{-z}}$\n",
    "\n"
   ]
  },
  {
   "cell_type": "markdown",
   "id": "52c26e3f-fba4-4665-9b7c-5bda0768aff3",
   "metadata": {},
   "source": [
    " * 이처럼 $logit\\,function$의 역함수가 $logistic\\, function$이다. 따라서\n",
    " * $logistic(z) = \\mu(z) = \\displaystyle\\frac{1}{1+e^{-z}}$"
   ]
  },
  {
   "cell_type": "markdown",
   "id": "4fcca892-028b-4a5e-b407-75e16763eefb",
   "metadata": {},
   "source": [
    "`-` $logistic\\,function$의 그래프는 다음과 같다.[(출처)](https://en.wikipedia.org/wiki/Sigmoid_function)"
   ]
  },
  {
   "cell_type": "markdown",
   "id": "381d4ff1-911f-48c8-96da-ba8831a6c4bd",
   "metadata": {},
   "source": [
    "![sigmoid](https://upload.wikimedia.org/wikipedia/commons/thumb/8/88/Logistic-curve.svg/480px-Logistic-curve.svg.png)"
   ]
  },
  {
   "cell_type": "markdown",
   "id": "2223c243-0cd3-42e1-b8c3-8a669dbcc26c",
   "metadata": {},
   "source": [
    "### Logistic Regression(로지스틱 회귀)"
   ]
  },
  {
   "cell_type": "markdown",
   "id": "4699737b-9460-41b1-8144-a4a175bde056",
   "metadata": {},
   "source": [
    "`-` 그러다면 $logistic function$을 왜 사용하는 것일까?"
   ]
  },
  {
   "cell_type": "markdown",
   "id": "f84b73d1-bd8a-4ca0-bd4f-50bce7b05c4d",
   "metadata": {},
   "source": [
    "![사진](http://i.imgur.com/Co19p9c.png)\n",
    "[사진출처 : ratsgo's blog](http://i.imgur.com/Co19p9c.png)"
   ]
  },
  {
   "cell_type": "markdown",
   "id": "5f2e199a-900d-4e3f-811c-cc6a01bea3ca",
   "metadata": {},
   "source": [
    " * 나이에 따른 질병 유무에 대한 분류문제를 해결해야한다고 가정해보자.\n",
    " * 그림과 같이 분류 문제를 선형 회귀로 해결하려고 하면 그림이 많이 이상해집니다.\n",
    " * 따라서 앞서 언급한 $logistic\\,function$을 이용하여 문제를 해결합니다.\n",
    "$logistic\\,function(z) = \\displaystyle\\frac{1}{1+e^{-z}} = \\begin{cases}1&z>\\frac12\\\\\\frac12&z=\\frac12\\\\0&z<\\frac12\\end{cases}$"
   ]
  },
  {
   "cell_type": "markdown",
   "id": "ae96fcba-6733-4fe5-bcb7-b647e8549517",
   "metadata": {},
   "source": [
    "### 다항 로지스틱 회귀 & 소프트맥스"
   ]
  },
  {
   "cell_type": "markdown",
   "id": "fc959992-4493-4a67-b553-7dd6dca73788",
   "metadata": {},
   "source": [
    "**linear predictor**"
   ]
  },
  {
   "cell_type": "markdown",
   "id": "2f126d30-4bd4-4862-91dd-857836dee748",
   "metadata": {},
   "source": [
    "\n",
    "$\\begin{align}\n",
    "f(k,i) &= \\beta_{0k} + \\beta_{1k}x_{1i} + \\beta_{2k}x_{2i} + \\cdot + \\beta_{mk}x_{mi}\\\\\n",
    "       &= \\vec{\\beta_k} \\cdot \\vec{x_i}\n",
    "\\end{align}$\n"
   ]
  },
  {
   "cell_type": "markdown",
   "id": "49010e4d-6bf2-4fb5-b5f6-b17c4c80ad85",
   "metadata": {},
   "source": [
    "$log(\\displaystyle\\frac{P(Y_i=k)}{P(Y_i=K)}) = \\vec{\\beta_k} \\cdot \\vec{x_i}$\\\n",
    "\\\n",
    "$\\Leftrightarrow \\displaystyle\\frac{P(Y_i=k)}{P(Y_i=K)} = exp(\\vec{\\beta_k} \\vec{x_i})$\\\n",
    "\\\n",
    "$P(Y_i=k) = P(Y_i=K)exp(\\vec{\\beta_k} \\vec{x_i})$\n",
    "\n",
    "\n",
    "$\\begin{align}\n",
    "P(Y_i=K) &= 1 - \\displaystyle\\sum^{j=1}_{K-1}P(Y_i = j)\\\\\n",
    "         &= 1 - \\displaystyle\\sum^{j=1}_{K-1}P(Y_i=k)exp(\\vec{\\beta_j} \\vec{x_i})\n",
    "\\end{align}$\n"
   ]
  },
  {
   "cell_type": "markdown",
   "id": "f01b3b29-38fa-4a2e-9c65-e69c5751b14a",
   "metadata": {},
   "source": [
    "$P(Y_i=K) =  1 - \\displaystyle\\sum_{j=1}^{K-1}P(Y_i=K)exp(\\vec{\\beta_j} \\vec{x_i})$\\\n",
    "\\\n",
    "$P(Y_i=K)\\big(1 + \\displaystyle\\sum_{j=1}^{K-1} e^{\\vec{\\beta_j} \\vec{x_i}}\\big) = 1$\\\n",
    "\\\n",
    "$P(Y_i=K) = \\displaystyle\\frac{1}{1 + \\sum_{j=1}^{K-1} exp(\\vec{\\beta_j} \\vec{x_i})}$"
   ]
  },
  {
   "cell_type": "markdown",
   "id": "42d382db-f3e3-4150-b012-703bca743638",
   "metadata": {},
   "source": [
    "앞서서\\\n",
    "$P(Y_i=k) = P(Y_i=K)exp(\\vec{\\beta_k} \\vec{x_i})$라고 했으므로\\\n",
    "\\\n",
    "$P(Y_i=k) = \\displaystyle\\frac{exp(\\vec{\\beta_k} \\vec{x_i})}{1 + \\sum_{j=1}^{K-1} exp(\\vec{\\beta_j} \\vec{x_i})}$ (1)\n"
   ]
  },
  {
   "cell_type": "markdown",
   "id": "bfe0edd2-a945-4db0-b491-7b5be52aa5c5",
   "metadata": {},
   "source": [
    "$\\displaystyle\\sum_{k=1}^{K}P(Y_i=k)=1$이 성립해야하므로 식을 다음과 같이 작성할 수 있다.\\\n",
    "$\\displaystyle\\sum_{k=1}^{K} \\displaystyle\\frac{e^{\\vec{\\beta_k} \\vec{x_i}}}{1 + \\sum_{j=1}^{K-1} e^{\\vec{\\beta_j} \\vec{x_i}}} = 1$\\\n",
    "식을 정리하면\\\n",
    "$\\displaystyle\\sum_{k=1}^{K}exp(\\vec{\\beta_j} \\vec{x_i}) =\\displaystyle\\sum_{j=1}^{K-1}exp(\\vec{\\beta_k} \\vec{x_i}) - 1$ 이 식을 (1)에 대입하면\\\n",
    "\\\n",
    "$P(Y_i=k) = \\displaystyle\\frac{exp(\\vec{\\beta_k} \\vec{x_i})}{\\sum_{k=1}^{K}exp(\\vec{\\beta_k} \\vec{x_i})}$가 성립한다."
   ]
  },
  {
   "cell_type": "markdown",
   "id": "98620b2a-4d19-434c-a607-379242810051",
   "metadata": {},
   "source": [
    "### 로지스틱 회귀 모델 학습"
   ]
  },
  {
   "cell_type": "markdown",
   "id": "a60e68e7-0c44-4102-846a-6197a4ac5838",
   "metadata": {},
   "source": [
    "(추가 업로드 예정)"
   ]
  }
 ],
 "metadata": {
  "kernelspec": {
   "display_name": "Python 3 (ipykernel)",
   "language": "python",
   "name": "python3"
  },
  "language_info": {
   "codemirror_mode": {
    "name": "ipython",
    "version": 3
   },
   "file_extension": ".py",
   "mimetype": "text/x-python",
   "name": "python",
   "nbconvert_exporter": "python",
   "pygments_lexer": "ipython3",
   "version": "3.10.13"
  }
 },
 "nbformat": 4,
 "nbformat_minor": 5
}
