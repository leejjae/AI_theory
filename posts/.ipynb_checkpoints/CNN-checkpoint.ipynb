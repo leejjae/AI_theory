{
 "cells": [
  {
   "cell_type": "markdown",
   "id": "2954b1eb-0537-41c0-bfac-d4ae462259d0",
   "metadata": {},
   "source": [
    "### CNN(Convolutional Neural Network)'s Structure"
   ]
  },
  {
   "cell_type": "markdown",
   "id": "1b87a545-1adc-4032-9368-ab051ed34ae2",
   "metadata": {},
   "source": [
    "![](https://images.squarespace-cdn.com/content/v1/5acbdd3a25bf024c12f4c8b4/1593967518672-RPGLD1X41M4OXWENZ0BN/CNN+Structure.jpg?format=2500w)\\\n",
    "https://www.ml-science.com/convolutional-neural-networks"
   ]
  },
  {
   "cell_type": "markdown",
   "id": "58f3ad37-046f-405e-9aa2-87311d4d73db",
   "metadata": {},
   "source": [
    "### Convolutional Filter"
   ]
  },
  {
   "cell_type": "code",
   "execution_count": null,
   "id": "2004aa8b-c7e7-488e-8613-aad0c334b388",
   "metadata": {},
   "outputs": [],
   "source": []
  },
  {
   "cell_type": "markdown",
   "id": "d9fa3e8d-e24b-4ee5-b90d-4cbfbde69d38",
   "metadata": {},
   "source": [
    "![](https://jeiwan.net/images/convolution-filter-example.png)\\\n",
    "https://jeiwan.net/posts/til-convolution-filters-are-weights/"
   ]
  },
  {
   "cell_type": "code",
   "execution_count": null,
   "id": "ad29bed2-8c55-4618-b375-347eb2fb2c4d",
   "metadata": {},
   "outputs": [],
   "source": []
  },
  {
   "cell_type": "markdown",
   "id": "01f8de88-f3f5-4bd9-9562-27dd9ed3bc8a",
   "metadata": {},
   "source": [
    "### Padding"
   ]
  },
  {
   "cell_type": "code",
   "execution_count": null,
   "id": "ffab83c4-59dd-4517-a568-a431576a2cdf",
   "metadata": {},
   "outputs": [],
   "source": []
  },
  {
   "cell_type": "markdown",
   "id": "3c46d525-4133-4b8e-a227-5b99f1bba1e1",
   "metadata": {},
   "source": [
    "### Pooling"
   ]
  },
  {
   "cell_type": "code",
   "execution_count": null,
   "id": "5470766e-45e7-44e0-b844-8a9b3044f1bf",
   "metadata": {},
   "outputs": [],
   "source": []
  }
 ],
 "metadata": {
  "kernelspec": {
   "display_name": "Python 3 (ipykernel)",
   "language": "python",
   "name": "python3"
  },
  "language_info": {
   "codemirror_mode": {
    "name": "ipython",
    "version": 3
   },
   "file_extension": ".py",
   "mimetype": "text/x-python",
   "name": "python",
   "nbconvert_exporter": "python",
   "pygments_lexer": "ipython3",
   "version": "3.9.19"
  }
 },
 "nbformat": 4,
 "nbformat_minor": 5
}
