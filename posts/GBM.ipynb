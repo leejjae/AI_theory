{
 "cells": [
  {
   "cell_type": "raw",
   "id": "06887f45-f6f1-4eab-aea5-c2881eb43a39",
   "metadata": {},
   "source": [
    "---\n",
    "\"title\": \"GBM\"\n",
    "\"author\": \"이정재\"\n",
    "\"date\": \"2024-03-16\"\n",
    "---"
   ]
  },
  {
   "cell_type": "markdown",
   "id": "e73d2dc6-6719-4fec-945f-438d3ecdfc96",
   "metadata": {},
   "source": [
    "# GBM (Gradient Boosting Machine)"
   ]
  },
  {
   "cell_type": "markdown",
   "id": "ffb23aea-033c-4cbe-b900-6471ea2334ad",
   "metadata": {},
   "source": [
    " `-` 다음은 [wikipedia](https://en.wikipedia.org/wiki/Gradient_boosting)의 Gradient Boosting Algorithm입니다. 다음의 수식을 먼저 읽고 최대한 이해하려고 노력해봅시다."
   ]
  },
  {
   "cell_type": "markdown",
   "id": "90f7f068-458e-4369-a9a3-d6e99fc2e1b3",
   "metadata": {},
   "source": [
    "## Algorithm"
   ]
  },
  {
   "cell_type": "markdown",
   "id": "c85e3b9c-7f54-4964-9a42-de63226f4146",
   "metadata": {},
   "source": [
    "\n",
    "-------------------\n",
    "1. **initialize model with a constant value:**\\\n",
    "    $F_0(x) = \\underset{\\gamma}{\\arg\\min}\\sum_{i=1}^n L(y_i, \\gamma)$\n",
    "\n",
    " 2. **For m = 1 to M**: \n",
    "    1. Compute so-called pseudo-residuals\n",
    "       $r_{im} = - \\Bigg[\\displaystyle\\frac{\\partial L(y_i, F(x_i))}{\\partial F(x_i)}\\Bigg]_{F(x) = F_{m-1}(x)}$ for $i = 1, ... ,n$\n",
    "    2. Fit a base learner (or weak learner, e.g. tree) closed under scaling $h_m(x)$ to pseuo-residuals, i.e. train it using the training set $\\{(x_i, r_{im})\\}_{i=1}^{n}$\n",
    "    3. Compute multiplier $\\gamma_{m}$ by solving the following one-dimensional optimization problem:\\\n",
    "       $\\gamma_m = \\underset{\\gamma}{\\arg\\min}\\sum_{i=1}^n L(y_i, F_{m-1}(x_i) + \\gamma h_m(x_i))$\n",
    "    4. Update the model:\\\n",
    "       $F_m(x) = F_{m-1}(x) + \\gamma_m h_m(x)$\n",
    "    \n",
    "3. **Output $\\hat{f(x)} = F_M(x)$**\n",
    "-----------------------\n",
    "   \n",
    "       "
   ]
  },
  {
   "cell_type": "markdown",
   "id": "b3a1633e-76e4-4180-9ff1-64434be59955",
   "metadata": {},
   "source": [
    "수식으로만 완전히 이해하기가 어렵기 때문에 간단한 예시와 `pandas dataframe`을 이용하여 설명해보겠습니다.\\\n",
    "다음과 같은 데이터가 있다고 가정해보겠습니다."
   ]
  },
  {
   "cell_type": "code",
   "execution_count": 3,
   "id": "504f9bae-f503-421c-b970-31e8f7723ab8",
   "metadata": {},
   "outputs": [
    {
     "data": {
      "text/html": [
       "<div>\n",
       "<style scoped>\n",
       "    .dataframe tbody tr th:only-of-type {\n",
       "        vertical-align: middle;\n",
       "    }\n",
       "\n",
       "    .dataframe tbody tr th {\n",
       "        vertical-align: top;\n",
       "    }\n",
       "\n",
       "    .dataframe thead th {\n",
       "        text-align: right;\n",
       "    }\n",
       "</style>\n",
       "<table border=\"1\" class=\"dataframe\">\n",
       "  <thead>\n",
       "    <tr style=\"text-align: right;\">\n",
       "      <th></th>\n",
       "      <th>공부시간(m)</th>\n",
       "      <th>성별</th>\n",
       "      <th>수학점수</th>\n",
       "    </tr>\n",
       "  </thead>\n",
       "  <tbody>\n",
       "    <tr>\n",
       "      <th>학생1</th>\n",
       "      <td>150</td>\n",
       "      <td>여</td>\n",
       "      <td>90</td>\n",
       "    </tr>\n",
       "    <tr>\n",
       "      <th>학생2</th>\n",
       "      <td>120</td>\n",
       "      <td>남</td>\n",
       "      <td>65</td>\n",
       "    </tr>\n",
       "    <tr>\n",
       "      <th>학생3</th>\n",
       "      <td>60</td>\n",
       "      <td>남</td>\n",
       "      <td>55</td>\n",
       "    </tr>\n",
       "    <tr>\n",
       "      <th>학생4</th>\n",
       "      <td>80</td>\n",
       "      <td>여</td>\n",
       "      <td>???</td>\n",
       "    </tr>\n",
       "  </tbody>\n",
       "</table>\n",
       "</div>"
      ],
      "text/plain": [
       "     공부시간(m) 성별 수학점수\n",
       "학생1      150  여   90\n",
       "학생2      120  남   65\n",
       "학생3       60  남   55\n",
       "학생4       80  여  ???"
      ]
     },
     "execution_count": 3,
     "metadata": {},
     "output_type": "execute_result"
    }
   ],
   "source": [
    "import pandas as pd\n",
    "idx = ['학생1', '학생2', '학생3', '학생4']\n",
    "data = pd.DataFrame({'공부시간(m)':[150, 120, 60, 80], '성별':['여','남','남', '여'], '수학점수':[90, 65, 55, '???']},index=idx)\n",
    "data"
   ]
  },
  {
   "cell_type": "markdown",
   "id": "39f94e32-8ce5-4610-ba34-cd5cb1b40c18",
   "metadata": {},
   "source": [
    "다음과 같은 데이터가 있다고 할 때, 저희는 학생4의 `수학점수`를 `공부시간(m)`을 통하여 예측하고 싶습니다."
   ]
  },
  {
   "cell_type": "markdown",
   "id": "749d8713-a542-40ad-b3f1-7d85ce24da05",
   "metadata": {},
   "source": [
    "#### **1단계**"
   ]
  },
  {
   "cell_type": "markdown",
   "id": "e4bb22f3-c964-48d6-9676-d158be35996b",
   "metadata": {},
   "source": [
    "----------------------\n",
    "1. **initialize model with a constant value:**\\\n",
    "    $F_0(x) = \\underset{\\gamma}{\\arg\\min}\\sum_{i=1}^n L(y_i, \\gamma)$\n",
    "-----------------------"
   ]
  },
  {
   "cell_type": "markdown",
   "id": "7a0818ff-f100-4ff4-8e9d-6e32c1e042fa",
   "metadata": {},
   "source": [
    "1. 초기모델을 상수로 정의합니다. 여기서 상수는 $y_i$와 $\\gamma$입니다.\n",
    "2. $y_i$는 수학점수를 의미하고 $\\gamma$는 초기 예측값입니다.\n",
    "    - $y_1$ = 90,  $y_2$ = 65, $y_3$ = 60\n",
    "3. 여기서의 Loss Function $L(y_i, \\gamma) = \\displaystyle\\frac1n \\sum_{i=1}^{n} (y_i - \\gamma)^2$입니다. (잘 모르시는 분들은 MSE 학습하시면 좋을 것 같습니다.)\n",
    "4. 예시의 수치를 대입하면\\\n",
    "$L(y_i, \\gamma) = \\displaystyle\\frac13 \\sum_{i=1}^{3} (y_i - \\gamma)^2 =  \\displaystyle\\frac13(90 - \\gamma)^2 + \\displaystyle\\frac13(65 - \\gamma)^2 + \\displaystyle\\frac13(55 - \\gamma)^2$입니다.\n",
    "5. $L(y_i, \\gamma)$가 최소가 되는 $\\gamma$를 찾아야 하므로\n",
    "$\\displaystyle\\frac{\\partial L}{\\partial \\gamma} = \\displaystyle\\frac23(\\gamma - 90) + \\displaystyle\\frac23(\\gamma - 65) + \\displaystyle\\frac23(\\gamma - 55) = \\displaystyle\\frac23(3\\gamma - 210)$입니다.\n",
    "6. $\\displaystyle\\frac{\\partial L}{\\partial \\gamma} = 0$이 되어야 하므로 $\\gamma$ = 70입니다. 따라서 초기 예측값 $\\gamma$는 70이 됩니다.\n",
    "7. 초기 예측값을 이용한 첫번째 잔차는 각각 20, -5, -15가 됩니다.\n",
    " "
   ]
  },
  {
   "cell_type": "code",
   "execution_count": 34,
   "id": "48a410f7-0628-4ad2-8f6c-d7c12f26fc04",
   "metadata": {},
   "outputs": [
    {
     "data": {
      "text/html": [
       "<div>\n",
       "<style scoped>\n",
       "    .dataframe tbody tr th:only-of-type {\n",
       "        vertical-align: middle;\n",
       "    }\n",
       "\n",
       "    .dataframe tbody tr th {\n",
       "        vertical-align: top;\n",
       "    }\n",
       "\n",
       "    .dataframe thead th {\n",
       "        text-align: right;\n",
       "    }\n",
       "</style>\n",
       "<table border=\"1\" class=\"dataframe\">\n",
       "  <thead>\n",
       "    <tr style=\"text-align: right;\">\n",
       "      <th></th>\n",
       "      <th>StudyTime(m)</th>\n",
       "      <th>Sex</th>\n",
       "      <th>MathScore</th>\n",
       "      <th>F_0</th>\n",
       "      <th>r1</th>\n",
       "    </tr>\n",
       "  </thead>\n",
       "  <tbody>\n",
       "    <tr>\n",
       "      <th>Student1</th>\n",
       "      <td>150</td>\n",
       "      <td>female</td>\n",
       "      <td>90</td>\n",
       "      <td>70</td>\n",
       "      <td>20</td>\n",
       "    </tr>\n",
       "    <tr>\n",
       "      <th>Student2</th>\n",
       "      <td>120</td>\n",
       "      <td>male</td>\n",
       "      <td>65</td>\n",
       "      <td>70</td>\n",
       "      <td>-5</td>\n",
       "    </tr>\n",
       "    <tr>\n",
       "      <th>Student3</th>\n",
       "      <td>60</td>\n",
       "      <td>male</td>\n",
       "      <td>55</td>\n",
       "      <td>70</td>\n",
       "      <td>-15</td>\n",
       "    </tr>\n",
       "  </tbody>\n",
       "</table>\n",
       "</div>"
      ],
      "text/plain": [
       "          StudyTime(m)     Sex  MathScore  F_0  r1\n",
       "Student1           150  female         90   70  20\n",
       "Student2           120    male         65   70  -5\n",
       "Student3            60    male         55   70 -15"
      ]
     },
     "execution_count": 34,
     "metadata": {},
     "output_type": "execute_result"
    }
   ],
   "source": [
    "import pandas as pd\n",
    "idx = ['Student1', 'Student2', 'Student3']\n",
    "data = pd.DataFrame({'StudyTime(m)':[150, 120, 60], 'Sex':['female','male','male'], \n",
    "                     'MathScore':[90, 65, 55], 'F_0':[70 for i in range(3)],'r1': [20, -5, -15]},index=idx)\n",
    "data"
   ]
  },
  {
   "cell_type": "markdown",
   "id": "2442bbbd-7f27-4517-8b14-3dbb5f7effd9",
   "metadata": {},
   "source": [
    "`-` 위의 데이터를 의사결정나무로 시각화를 하면 다음과 같습니다."
   ]
  },
  {
   "cell_type": "code",
   "execution_count": 40,
   "id": "cb509d24-d29b-4a3a-9694-d5fa939a4bfa",
   "metadata": {},
   "outputs": [
    {
     "data": {
      "image/png": "[encoded data removed]",
      "text/plain": [
       "<Figure size 432x288 with 1 Axes>"
      ]
     },
     "metadata": {
      "needs_background": "light"
     },
     "output_type": "display_data"
    }
   ],
   "source": [
    "import sklearn.tree\n",
    "## step1\n",
    "x = data[['StudyTime(m)']]\n",
    "y = data['MathScore']\n",
    "\n",
    "## step2\n",
    "predictr = sklearn.tree.DecisionTreeRegressor(max_depth=1)\n",
    "\n",
    "## step3\n",
    "predictr.fit(x,y)\n",
    "\n",
    "## visualization\n",
    "sklearn.tree.plot_tree(predictr,feature_names=x.columns);"
   ]
  },
  {
   "cell_type": "markdown",
   "id": "327979e8-05d5-49de-a3cc-f822bfe86a02",
   "metadata": {},
   "source": [
    "#### **2단계**"
   ]
  },
  {
   "cell_type": "markdown",
   "id": "e69fa9a9-f775-431f-bc29-8bf29e032d59",
   "metadata": {},
   "source": [
    "-----------------------------------\n",
    " 2. **For $m$ = 1 to $M$**: \n",
    "    1. Compute so-called pseudo-residuals\n",
    "       $r_{im} = - \\Bigg[\\displaystyle\\frac{\\partial L(y_i, F(x_i))}{\\partial F(x_i)}\\Bigg]_{F(x) = F_{m-1}(x)}$ for $i = 1, ... ,n$\n",
    "    2. Fit a base learner (or weak learner, e.g. tree) closed under scaling $h_m(x)$ to pseuo-residuals, i.e. train it using the training set $\\{(x_i, r_{im})\\}_{i=1}^{n}$\n",
    "    3. Compute multiplier $\\gamma_{m}$ by solving the following one-dimensional optimization problem:\\\n",
    "       $\\gamma_m = \\underset{\\gamma}{\\arg\\min}\\sum_{i=1}^n L(y_i, F_{m-1}(x_i) + \\gamma h_m(x_i))$\n",
    "    4. Update the model:\\\n",
    "       $F_m(x) = F_{m-1}(x) + \\gamma_m h_m(x)$\n",
    "-----------------------------------------    "
   ]
  },
  {
   "cell_type": "markdown",
   "id": "285b161b-d21b-40de-888e-b353f27d50e9",
   "metadata": {},
   "source": [
    "1. `A단계`부터 `D단계`를 총 `M번` 반복하는 단계입니다.\n",
    "2. 여기서 $M$은 예측기의 개수, $n$은 데이터의 개수입니다.\n",
    "3. 예측기에 번호를 붙여 $m$=1인 경우는 1번 예측기 $m=M$인 경우는 M번 예측기라고 부르겠습니다.\n",
    "4. 1번 예측기($m=1$)가 생성 되는 과정을 살펴보겠습니다. $L(y_i,F(x_i)) = \\displaystyle\\frac12(y_i - F(x_i))^2$이므로\n",
    "    * $r_{i1} = - \\Bigg[\\displaystyle\\frac{\\partial L(y_i, F(x_i))}{\\partial F(x_i)}\\Bigg]_{F(x) = F_{0}(x)} = y_i - F_0(x_i)$입니다. (잔차와 식이 동일합니다.)\n",
    "    * 0번 예측기 $F_0(x)$는 1단계의 초기모델에서 생성되었습니다. 따라서 $F_0(x)=70$입니다.(1단계 참고)\n",
    "    * 따라서 $r_{11}=20$, $r_{21}=-5$, $r_{31}=-15$입니다. 1단계 표에 있는 잔차1과 같습니다.\n",
    "    * 함수$h_1(x)$는 앞서 계산한 잔차를 트리 계열로 학습합니다.(의사 결정 나무에 대해서는 추후에 업로드 하겠습니다.)\n",
    "    * 모든 데이터($n=3$)에 대해서 $\\sum_{i=1}^{3} L(y_i, F_0(x_i) + \\gamma h_m(x_i)$ 식이 최소가 되는 $\\gamma$(learning rate)를 찾습니다.($\\gamma = \\gamma_{1}$) \n",
    "    * 모델을 업데이트 합니다 : $F_1(x) = F_0(x) + \\gamma_1 h_1(x)$\n",
    "5. 4번의 과정을 M번 반복합니다."
   ]
  },
  {
   "cell_type": "markdown",
   "id": "ee255580-2bd3-4f8b-91df-718f2dd5ae82",
   "metadata": {},
   "source": [
    "`-` 추가설명"
   ]
  },
  {
   "cell_type": "markdown",
   "id": "5236f15b-efa0-48d9-bf03-476a6a43c86f",
   "metadata": {},
   "source": [
    "#### **3단계**"
   ]
  },
  {
   "cell_type": "markdown",
   "id": "785a5472-6a7f-47b9-965d-8433ac39dfc2",
   "metadata": {},
   "source": [
    "-----------------------------\n",
    "3. **Output $\\hat{f(x)} = F_M(x)$**\n",
    "-----------------------------"
   ]
  },
  {
   "cell_type": "markdown",
   "id": "98b1a867-7220-4aec-a5fa-b677f6ee36b4",
   "metadata": {},
   "source": [
    "1. 최종 모델을 산출합니다."
   ]
  },
  {
   "cell_type": "markdown",
   "id": "b648ab54-bf82-4366-90ce-a75cf472b53b",
   "metadata": {},
   "source": [
    "## Implementation"
   ]
  }
 ],
 "metadata": {
  "kernelspec": {
   "display_name": "Python 3",
   "language": "python",
   "name": "python3"
  },
  "language_info": {
   "codemirror_mode": {
    "name": "ipython",
    "version": 3
   },
   "file_extension": ".py",
   "mimetype": "text/x-python",
   "name": "python",
   "nbconvert_exporter": "python",
   "pygments_lexer": "ipython3",
   "version": "3.8.18"
  }
 },
 "nbformat": 4,
 "nbformat_minor": 5
}
