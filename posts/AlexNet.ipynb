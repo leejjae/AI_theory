{
 "cells": [
  {
   "cell_type": "raw",
   "id": "efc7c95d-f77e-4195-aa23-3fcac9e42be9",
   "metadata": {},
   "source": [
    "---\n",
    "\"title\": \"AlexNet\"\n",
    "\"author\": \"이정재\"\n",
    "\"date\": \"2024-05-17\"\n",
    "---"
   ]
  },
  {
   "cell_type": "markdown",
   "id": "824ab04d-2a40-4a76-8235-ddd91300003e",
   "metadata": {},
   "source": [
    "## AlexNet Architecture"
   ]
  },
  {
   "cell_type": "markdown",
   "id": "b64892ee-d0f1-4795-b8d3-31bd621b5892",
   "metadata": {},
   "source": [
    "![.](https://miro.medium.com/v2/resize:fit:720/format:webp/1*0dsWFuc0pDmcAmHJUh7wqg.png)"
   ]
  },
  {
   "cell_type": "markdown",
   "id": "7a166d85-45e5-40a7-921c-2bd5f5ee7b50",
   "metadata": {},
   "source": [
    "### Structure"
   ]
  },
  {
   "cell_type": "markdown",
   "id": "f9098c2c-8b90-40fb-a404-52744e2f2e70",
   "metadata": {},
   "source": [
    "1. **Input Image** : 227x227x3\\\n",
    "`--Convolutional Layer--`\n",
    "3. **Conv1** : 96 kernels of size 11x11, stride=4, padding=0\\\n",
    "    input : 224x224x3\\\n",
    "    output : 55x55x96\n",
    "4. **MaxPool1** : 3x3 kernels, stride=2\\\n",
    "    input : 55x55x96\\\n",
    "    output : 27x27x96\n",
    "5. **Norm1(LRN)**\\\n",
    "    input : 27x27x96\\\n",
    "    output : 27x27x96\n",
    "6. **Conv2** : 256 kernels of size 5x5, stride=1, padding=2\\\n",
    "    input : 27x27x96\\\n",
    "    output : 27x27x256\n",
    "7. **MaxPool2** : 3x3 kernels, stride=2, padding=2\\\n",
    "    input: 27x27x256\\\n",
    "    output : 13x13x256\n",
    "8. **Norm2(LRN)**\\\n",
    "    input : 13x13x256\\\n",
    "    output : 13x13x256\n",
    "9. **Conv3** : 384 kernels of size 3x3, stride=1, padding=1\\\n",
    "    input : 13x13x256\\\n",
    "    output : 13x13x384\n",
    "10. **Conv4** : 384 kernels of size 3x3, stride=1, padding=1\\\n",
    "    input : 13x13x384\\\n",
    "    output : 13x13x256\n",
    "11. **Conv5** : 256 kernels of size 3x3, stride=1, padding=1\\\n",
    "    input : 13x13x384\\\n",
    "    output : 13x13x256\n",
    "12. **MaxPool3** : 3x3 kernels, stride=2\\\n",
    "    input : 13x13x256\\\n",
    "    output : 6x6x256\\\n",
    "`--Convolutional Layer--`\\\n",
    "\\\n",
    "`--Fully Connected Layer--`\n",
    "13. **FC1** : fully connected layer with 4096 neurons\\\n",
    "    input : 6x6x256(=9216)\\\n",
    "    output : 4096\n",
    "14. **FC2** : fully connected layer with 4096 neurons\\\n",
    "    input : 4096\\\n",
    "    output : 4096\\\n",
    "`--Fully Connected Layer--`\\\n",
    "\\\n",
    "`--Output Layer--`\n",
    "15. **output layer** : fully connected layer with 1000-way softmax\\\n",
    "    input : 4096\\\n",
    "    output : 100\\\n",
    "`--Output Layer--`\n",
    "    \n",
    "    \n",
    "    \n",
    "\n",
    "              "
   ]
  },
  {
   "cell_type": "markdown",
   "id": "5820f4bb-9f11-49bc-83f9-95b58cea62a5",
   "metadata": {},
   "source": [
    "### LRN(Local Response Nomalization)"
   ]
  },
  {
   "cell_type": "markdown",
   "id": "62d2f78a-e701-49ef-b29f-a895e63d5f4d",
   "metadata": {},
   "source": [
    "$\\displaystyle b_{x,y}^i = \\displaystyle\\frac{a_{x,y}^i}{\\Big(k + \\alpha \\displaystyle\\sum_{j=max(0,i-n/2)}^{min(N-1,i+n/2)}(a_{x,y}^i)^2\\Big)^{\\beta}}$"
   ]
  },
  {
   "cell_type": "markdown",
   "id": "6f60f0e3-f048-4b4b-bdb4-250246f0db4a",
   "metadata": {},
   "source": [
    "* $b_{x,y}^i$ : LRN한 Activation 결과\n",
    "* $a_{x,y}^i$ : Activation 결과\n",
    "* $i$ : $i$번째 Filter\n",
    "* $n$ : 고려해야하는 Filter 개수\n",
    "* $N$ : 총 Filter 개수\n",
    "* $k, \\alpha, \\beta$ : Hyperparameters"
   ]
  },
  {
   "cell_type": "markdown",
   "id": "08490209-7fdf-45e5-85c7-d2bf7267cead",
   "metadata": {},
   "source": [
    "<img src=\"https://cdn.datamaker.io/datamaker-erp/media/uploads/2020/09/16/1_vfc3ku-wqpg1znxfyc_xpq.png\" width=\"600\"/>"
   ]
  },
  {
   "cell_type": "markdown",
   "id": "855e8413-aad4-4319-a507-d681270ddd57",
   "metadata": {},
   "source": [
    "`-` AlexNet에서 사용된 Activation function ReLU는 Input 값이 양수인 경우, 값이 그대로 나오기 때문에, 정규화를 해주기 위해 LRN을 사용했다. ReLU 함수를 통과한 output $a$는 위의 식처럼 Normalization 된다. 현재는 Batch Normalization을 사용하기 때문에, LRN은 사용되지 않는다."
   ]
  },
  {
   "cell_type": "markdown",
   "id": "a1916031-212e-4f51-8b43-1e0cf7831436",
   "metadata": {},
   "source": [
    "### Overlapping Pooling"
   ]
  },
  {
   "cell_type": "markdown",
   "id": "e5b56c0b-3300-40d1-a51d-1192d821c513",
   "metadata": {},
   "source": [
    "<img src=\"https://img1.daumcdn.net/thumb/R1280x0/?scode=mtistory2&fname=https%3A%2F%2Fblog.kakaocdn.net%2Fdn%2FLIt1h%2FbtrRh7AbRGD%2FhqIvSgAUABvqtdKVWXdu41%2Fimg.png\" alt=\"Image\" width=\"400\"/>"
   ]
  },
  {
   "cell_type": "markdown",
   "id": "81524efc-7f3a-4689-b2c1-09081aeffed4",
   "metadata": {},
   "source": [
    " * AlexNet 이전 모델인 LeNet은 Non-overlapping pooling 사용했다.\n",
    " * AlexNet은 Overlapping pooling을 도입했다.\\\n",
    "$\\Rightarrow$ Overlapping pooling을 사용하면, 정확도가 향상되지만, 계산량이 증가한다."
   ]
  },
  {
   "cell_type": "markdown",
   "id": "4bea3936-be36-4eba-b54a-b1402d4dc048",
   "metadata": {},
   "source": [
    "### [ReLU](https://leejjae.github.io/AI_theory/posts/ANN(2).html)"
   ]
  },
  {
   "cell_type": "markdown",
   "id": "8cb08874-7ccf-47fe-ba0b-58697424df31",
   "metadata": {},
   "source": [
    "### [Data Augmentation](https://leejjae.github.io/AI_theory/posts/ANN(3)%20-%20Overfitting.html)"
   ]
  },
  {
   "cell_type": "markdown",
   "id": "0ac67506-f409-42c4-b462-6f3479be0ec1",
   "metadata": {},
   "source": [
    "### [Dropout](https://leejjae.github.io/AI_theory/posts/ANN(3)%20-%20Overfitting.html#dropout)"
   ]
  }
 ],
 "metadata": {
  "kernelspec": {
   "display_name": "Python 3 (ipykernel)",
   "language": "python",
   "name": "python3"
  },
  "language_info": {
   "codemirror_mode": {
    "name": "ipython",
    "version": 3
   },
   "file_extension": ".py",
   "mimetype": "text/x-python",
   "name": "python",
   "nbconvert_exporter": "python",
   "pygments_lexer": "ipython3",
   "version": "3.10.13"
  }
 },
 "nbformat": 4,
 "nbformat_minor": 5
}
